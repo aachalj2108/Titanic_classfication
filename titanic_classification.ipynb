{
 "cells": [
  {
   "cell_type": "code",
   "execution_count": null,
   "id": "d2c3e77a",
   "metadata": {},
   "outputs": [],
   "source": [
    "---AACHAL RAJESH JAISWAL--- \n",
    "DATA SCIENCE INTERN \n",
    "TASK 2 ----- STOCK PREDICTION DATA SET=\"titanic.csv\"\n"
   ]
  },
  {
   "cell_type": "code",
   "execution_count": 2,
   "id": "2f0cc802",
   "metadata": {},
   "outputs": [],
   "source": [
    "import numpy as np\n",
    "import math\n",
    "\n",
    "\n",
    "import matplotlib.pyplot as plt\n",
    "import pandas as pd\n",
    "import seaborn as sns"
   ]
  },
  {
   "cell_type": "code",
   "execution_count": 3,
   "id": "85703eaf",
   "metadata": {},
   "outputs": [
    {
     "data": {
      "text/html": [
       "<div>\n",
       "<style scoped>\n",
       "    .dataframe tbody tr th:only-of-type {\n",
       "        vertical-align: middle;\n",
       "    }\n",
       "\n",
       "    .dataframe tbody tr th {\n",
       "        vertical-align: top;\n",
       "    }\n",
       "\n",
       "    .dataframe thead th {\n",
       "        text-align: right;\n",
       "    }\n",
       "</style>\n",
       "<table border=\"1\" class=\"dataframe\">\n",
       "  <thead>\n",
       "    <tr style=\"text-align: right;\">\n",
       "      <th></th>\n",
       "      <th>PassengerId</th>\n",
       "      <th>Survived</th>\n",
       "      <th>Pclass</th>\n",
       "      <th>Name</th>\n",
       "      <th>Sex</th>\n",
       "      <th>Age</th>\n",
       "      <th>SibSp</th>\n",
       "      <th>Parch</th>\n",
       "      <th>Ticket</th>\n",
       "      <th>Fare</th>\n",
       "      <th>Cabin</th>\n",
       "      <th>Embarked</th>\n",
       "    </tr>\n",
       "  </thead>\n",
       "  <tbody>\n",
       "    <tr>\n",
       "      <th>0</th>\n",
       "      <td>1</td>\n",
       "      <td>0</td>\n",
       "      <td>3</td>\n",
       "      <td>Braund, Mr. Owen Harris</td>\n",
       "      <td>male</td>\n",
       "      <td>22.0</td>\n",
       "      <td>1</td>\n",
       "      <td>0</td>\n",
       "      <td>A/5 21171</td>\n",
       "      <td>7.2500</td>\n",
       "      <td>NaN</td>\n",
       "      <td>S</td>\n",
       "    </tr>\n",
       "    <tr>\n",
       "      <th>1</th>\n",
       "      <td>2</td>\n",
       "      <td>1</td>\n",
       "      <td>1</td>\n",
       "      <td>Cumings, Mrs. John Bradley (Florence Briggs Th...</td>\n",
       "      <td>female</td>\n",
       "      <td>38.0</td>\n",
       "      <td>1</td>\n",
       "      <td>0</td>\n",
       "      <td>PC 17599</td>\n",
       "      <td>71.2833</td>\n",
       "      <td>C85</td>\n",
       "      <td>C</td>\n",
       "    </tr>\n",
       "    <tr>\n",
       "      <th>2</th>\n",
       "      <td>3</td>\n",
       "      <td>1</td>\n",
       "      <td>3</td>\n",
       "      <td>Heikkinen, Miss. Laina</td>\n",
       "      <td>female</td>\n",
       "      <td>26.0</td>\n",
       "      <td>0</td>\n",
       "      <td>0</td>\n",
       "      <td>STON/O2. 3101282</td>\n",
       "      <td>7.9250</td>\n",
       "      <td>NaN</td>\n",
       "      <td>S</td>\n",
       "    </tr>\n",
       "    <tr>\n",
       "      <th>3</th>\n",
       "      <td>4</td>\n",
       "      <td>1</td>\n",
       "      <td>1</td>\n",
       "      <td>Futrelle, Mrs. Jacques Heath (Lily May Peel)</td>\n",
       "      <td>female</td>\n",
       "      <td>35.0</td>\n",
       "      <td>1</td>\n",
       "      <td>0</td>\n",
       "      <td>113803</td>\n",
       "      <td>53.1000</td>\n",
       "      <td>C123</td>\n",
       "      <td>S</td>\n",
       "    </tr>\n",
       "    <tr>\n",
       "      <th>4</th>\n",
       "      <td>5</td>\n",
       "      <td>0</td>\n",
       "      <td>3</td>\n",
       "      <td>Allen, Mr. William Henry</td>\n",
       "      <td>male</td>\n",
       "      <td>35.0</td>\n",
       "      <td>0</td>\n",
       "      <td>0</td>\n",
       "      <td>373450</td>\n",
       "      <td>8.0500</td>\n",
       "      <td>NaN</td>\n",
       "      <td>S</td>\n",
       "    </tr>\n",
       "  </tbody>\n",
       "</table>\n",
       "</div>"
      ],
      "text/plain": [
       "   PassengerId  Survived  Pclass  \\\n",
       "0            1         0       3   \n",
       "1            2         1       1   \n",
       "2            3         1       3   \n",
       "3            4         1       1   \n",
       "4            5         0       3   \n",
       "\n",
       "                                                Name     Sex   Age  SibSp  \\\n",
       "0                            Braund, Mr. Owen Harris    male  22.0      1   \n",
       "1  Cumings, Mrs. John Bradley (Florence Briggs Th...  female  38.0      1   \n",
       "2                             Heikkinen, Miss. Laina  female  26.0      0   \n",
       "3       Futrelle, Mrs. Jacques Heath (Lily May Peel)  female  35.0      1   \n",
       "4                           Allen, Mr. William Henry    male  35.0      0   \n",
       "\n",
       "   Parch            Ticket     Fare Cabin Embarked  \n",
       "0      0         A/5 21171   7.2500   NaN        S  \n",
       "1      0          PC 17599  71.2833   C85        C  \n",
       "2      0  STON/O2. 3101282   7.9250   NaN        S  \n",
       "3      0            113803  53.1000  C123        S  \n",
       "4      0            373450   8.0500   NaN        S  "
      ]
     },
     "execution_count": 3,
     "metadata": {},
     "output_type": "execute_result"
    }
   ],
   "source": [
    "data=pd.read_csv('titanic.csv')\n",
    "data.head()"
   ]
  },
  {
   "cell_type": "code",
   "execution_count": 4,
   "id": "253c4ce5",
   "metadata": {},
   "outputs": [
    {
     "data": {
      "text/html": [
       "<div>\n",
       "<style scoped>\n",
       "    .dataframe tbody tr th:only-of-type {\n",
       "        vertical-align: middle;\n",
       "    }\n",
       "\n",
       "    .dataframe tbody tr th {\n",
       "        vertical-align: top;\n",
       "    }\n",
       "\n",
       "    .dataframe thead th {\n",
       "        text-align: right;\n",
       "    }\n",
       "</style>\n",
       "<table border=\"1\" class=\"dataframe\">\n",
       "  <thead>\n",
       "    <tr style=\"text-align: right;\">\n",
       "      <th></th>\n",
       "      <th>PassengerId</th>\n",
       "      <th>Survived</th>\n",
       "      <th>Pclass</th>\n",
       "      <th>Name</th>\n",
       "      <th>Sex</th>\n",
       "      <th>Age</th>\n",
       "      <th>SibSp</th>\n",
       "      <th>Parch</th>\n",
       "      <th>Ticket</th>\n",
       "      <th>Fare</th>\n",
       "      <th>Cabin</th>\n",
       "      <th>Embarked</th>\n",
       "    </tr>\n",
       "  </thead>\n",
       "  <tbody>\n",
       "    <tr>\n",
       "      <th>886</th>\n",
       "      <td>887</td>\n",
       "      <td>0</td>\n",
       "      <td>2</td>\n",
       "      <td>Montvila, Rev. Juozas</td>\n",
       "      <td>male</td>\n",
       "      <td>27.0</td>\n",
       "      <td>0</td>\n",
       "      <td>0</td>\n",
       "      <td>211536</td>\n",
       "      <td>13.00</td>\n",
       "      <td>NaN</td>\n",
       "      <td>S</td>\n",
       "    </tr>\n",
       "    <tr>\n",
       "      <th>887</th>\n",
       "      <td>888</td>\n",
       "      <td>1</td>\n",
       "      <td>1</td>\n",
       "      <td>Graham, Miss. Margaret Edith</td>\n",
       "      <td>female</td>\n",
       "      <td>19.0</td>\n",
       "      <td>0</td>\n",
       "      <td>0</td>\n",
       "      <td>112053</td>\n",
       "      <td>30.00</td>\n",
       "      <td>B42</td>\n",
       "      <td>S</td>\n",
       "    </tr>\n",
       "    <tr>\n",
       "      <th>888</th>\n",
       "      <td>889</td>\n",
       "      <td>0</td>\n",
       "      <td>3</td>\n",
       "      <td>Johnston, Miss. Catherine Helen \"Carrie\"</td>\n",
       "      <td>female</td>\n",
       "      <td>NaN</td>\n",
       "      <td>1</td>\n",
       "      <td>2</td>\n",
       "      <td>W./C. 6607</td>\n",
       "      <td>23.45</td>\n",
       "      <td>NaN</td>\n",
       "      <td>S</td>\n",
       "    </tr>\n",
       "    <tr>\n",
       "      <th>889</th>\n",
       "      <td>890</td>\n",
       "      <td>1</td>\n",
       "      <td>1</td>\n",
       "      <td>Behr, Mr. Karl Howell</td>\n",
       "      <td>male</td>\n",
       "      <td>26.0</td>\n",
       "      <td>0</td>\n",
       "      <td>0</td>\n",
       "      <td>111369</td>\n",
       "      <td>30.00</td>\n",
       "      <td>C148</td>\n",
       "      <td>C</td>\n",
       "    </tr>\n",
       "    <tr>\n",
       "      <th>890</th>\n",
       "      <td>891</td>\n",
       "      <td>0</td>\n",
       "      <td>3</td>\n",
       "      <td>Dooley, Mr. Patrick</td>\n",
       "      <td>male</td>\n",
       "      <td>32.0</td>\n",
       "      <td>0</td>\n",
       "      <td>0</td>\n",
       "      <td>370376</td>\n",
       "      <td>7.75</td>\n",
       "      <td>NaN</td>\n",
       "      <td>Q</td>\n",
       "    </tr>\n",
       "  </tbody>\n",
       "</table>\n",
       "</div>"
      ],
      "text/plain": [
       "     PassengerId  Survived  Pclass                                      Name  \\\n",
       "886          887         0       2                     Montvila, Rev. Juozas   \n",
       "887          888         1       1              Graham, Miss. Margaret Edith   \n",
       "888          889         0       3  Johnston, Miss. Catherine Helen \"Carrie\"   \n",
       "889          890         1       1                     Behr, Mr. Karl Howell   \n",
       "890          891         0       3                       Dooley, Mr. Patrick   \n",
       "\n",
       "        Sex   Age  SibSp  Parch      Ticket   Fare Cabin Embarked  \n",
       "886    male  27.0      0      0      211536  13.00   NaN        S  \n",
       "887  female  19.0      0      0      112053  30.00   B42        S  \n",
       "888  female   NaN      1      2  W./C. 6607  23.45   NaN        S  \n",
       "889    male  26.0      0      0      111369  30.00  C148        C  \n",
       "890    male  32.0      0      0      370376   7.75   NaN        Q  "
      ]
     },
     "execution_count": 4,
     "metadata": {},
     "output_type": "execute_result"
    }
   ],
   "source": [
    "data.tail(5)"
   ]
  },
  {
   "cell_type": "code",
   "execution_count": 5,
   "id": "38a68c49",
   "metadata": {},
   "outputs": [
    {
     "data": {
      "text/html": [
       "<div>\n",
       "<style scoped>\n",
       "    .dataframe tbody tr th:only-of-type {\n",
       "        vertical-align: middle;\n",
       "    }\n",
       "\n",
       "    .dataframe tbody tr th {\n",
       "        vertical-align: top;\n",
       "    }\n",
       "\n",
       "    .dataframe thead th {\n",
       "        text-align: right;\n",
       "    }\n",
       "</style>\n",
       "<table border=\"1\" class=\"dataframe\">\n",
       "  <thead>\n",
       "    <tr style=\"text-align: right;\">\n",
       "      <th></th>\n",
       "      <th>PassengerId</th>\n",
       "      <th>Survived</th>\n",
       "      <th>Pclass</th>\n",
       "      <th>Age</th>\n",
       "      <th>SibSp</th>\n",
       "      <th>Parch</th>\n",
       "      <th>Fare</th>\n",
       "    </tr>\n",
       "  </thead>\n",
       "  <tbody>\n",
       "    <tr>\n",
       "      <th>count</th>\n",
       "      <td>891.000000</td>\n",
       "      <td>891.000000</td>\n",
       "      <td>891.000000</td>\n",
       "      <td>714.000000</td>\n",
       "      <td>891.000000</td>\n",
       "      <td>891.000000</td>\n",
       "      <td>891.000000</td>\n",
       "    </tr>\n",
       "    <tr>\n",
       "      <th>mean</th>\n",
       "      <td>446.000000</td>\n",
       "      <td>0.383838</td>\n",
       "      <td>2.308642</td>\n",
       "      <td>29.699118</td>\n",
       "      <td>0.523008</td>\n",
       "      <td>0.381594</td>\n",
       "      <td>32.204208</td>\n",
       "    </tr>\n",
       "    <tr>\n",
       "      <th>std</th>\n",
       "      <td>257.353842</td>\n",
       "      <td>0.486592</td>\n",
       "      <td>0.836071</td>\n",
       "      <td>14.526497</td>\n",
       "      <td>1.102743</td>\n",
       "      <td>0.806057</td>\n",
       "      <td>49.693429</td>\n",
       "    </tr>\n",
       "    <tr>\n",
       "      <th>min</th>\n",
       "      <td>1.000000</td>\n",
       "      <td>0.000000</td>\n",
       "      <td>1.000000</td>\n",
       "      <td>0.420000</td>\n",
       "      <td>0.000000</td>\n",
       "      <td>0.000000</td>\n",
       "      <td>0.000000</td>\n",
       "    </tr>\n",
       "    <tr>\n",
       "      <th>25%</th>\n",
       "      <td>223.500000</td>\n",
       "      <td>0.000000</td>\n",
       "      <td>2.000000</td>\n",
       "      <td>20.125000</td>\n",
       "      <td>0.000000</td>\n",
       "      <td>0.000000</td>\n",
       "      <td>7.910400</td>\n",
       "    </tr>\n",
       "    <tr>\n",
       "      <th>50%</th>\n",
       "      <td>446.000000</td>\n",
       "      <td>0.000000</td>\n",
       "      <td>3.000000</td>\n",
       "      <td>28.000000</td>\n",
       "      <td>0.000000</td>\n",
       "      <td>0.000000</td>\n",
       "      <td>14.454200</td>\n",
       "    </tr>\n",
       "    <tr>\n",
       "      <th>75%</th>\n",
       "      <td>668.500000</td>\n",
       "      <td>1.000000</td>\n",
       "      <td>3.000000</td>\n",
       "      <td>38.000000</td>\n",
       "      <td>1.000000</td>\n",
       "      <td>0.000000</td>\n",
       "      <td>31.000000</td>\n",
       "    </tr>\n",
       "    <tr>\n",
       "      <th>max</th>\n",
       "      <td>891.000000</td>\n",
       "      <td>1.000000</td>\n",
       "      <td>3.000000</td>\n",
       "      <td>80.000000</td>\n",
       "      <td>8.000000</td>\n",
       "      <td>6.000000</td>\n",
       "      <td>512.329200</td>\n",
       "    </tr>\n",
       "  </tbody>\n",
       "</table>\n",
       "</div>"
      ],
      "text/plain": [
       "       PassengerId    Survived      Pclass         Age       SibSp  \\\n",
       "count   891.000000  891.000000  891.000000  714.000000  891.000000   \n",
       "mean    446.000000    0.383838    2.308642   29.699118    0.523008   \n",
       "std     257.353842    0.486592    0.836071   14.526497    1.102743   \n",
       "min       1.000000    0.000000    1.000000    0.420000    0.000000   \n",
       "25%     223.500000    0.000000    2.000000   20.125000    0.000000   \n",
       "50%     446.000000    0.000000    3.000000   28.000000    0.000000   \n",
       "75%     668.500000    1.000000    3.000000   38.000000    1.000000   \n",
       "max     891.000000    1.000000    3.000000   80.000000    8.000000   \n",
       "\n",
       "            Parch        Fare  \n",
       "count  891.000000  891.000000  \n",
       "mean     0.381594   32.204208  \n",
       "std      0.806057   49.693429  \n",
       "min      0.000000    0.000000  \n",
       "25%      0.000000    7.910400  \n",
       "50%      0.000000   14.454200  \n",
       "75%      0.000000   31.000000  \n",
       "max      6.000000  512.329200  "
      ]
     },
     "execution_count": 5,
     "metadata": {},
     "output_type": "execute_result"
    }
   ],
   "source": [
    "data.describe()"
   ]
  },
  {
   "cell_type": "code",
   "execution_count": 6,
   "id": "5fdd535d",
   "metadata": {},
   "outputs": [
    {
     "data": {
      "text/html": [
       "<div>\n",
       "<style scoped>\n",
       "    .dataframe tbody tr th:only-of-type {\n",
       "        vertical-align: middle;\n",
       "    }\n",
       "\n",
       "    .dataframe tbody tr th {\n",
       "        vertical-align: top;\n",
       "    }\n",
       "\n",
       "    .dataframe thead th {\n",
       "        text-align: right;\n",
       "    }\n",
       "</style>\n",
       "<table border=\"1\" class=\"dataframe\">\n",
       "  <thead>\n",
       "    <tr style=\"text-align: right;\">\n",
       "      <th></th>\n",
       "      <th>PassengerId</th>\n",
       "      <th>Survived</th>\n",
       "      <th>Pclass</th>\n",
       "      <th>Age</th>\n",
       "      <th>SibSp</th>\n",
       "      <th>Parch</th>\n",
       "      <th>Fare</th>\n",
       "    </tr>\n",
       "  </thead>\n",
       "  <tbody>\n",
       "    <tr>\n",
       "      <th>PassengerId</th>\n",
       "      <td>1.000000</td>\n",
       "      <td>-0.005007</td>\n",
       "      <td>-0.035144</td>\n",
       "      <td>0.036847</td>\n",
       "      <td>-0.057527</td>\n",
       "      <td>-0.001652</td>\n",
       "      <td>0.012658</td>\n",
       "    </tr>\n",
       "    <tr>\n",
       "      <th>Survived</th>\n",
       "      <td>-0.005007</td>\n",
       "      <td>1.000000</td>\n",
       "      <td>-0.338481</td>\n",
       "      <td>-0.077221</td>\n",
       "      <td>-0.035322</td>\n",
       "      <td>0.081629</td>\n",
       "      <td>0.257307</td>\n",
       "    </tr>\n",
       "    <tr>\n",
       "      <th>Pclass</th>\n",
       "      <td>-0.035144</td>\n",
       "      <td>-0.338481</td>\n",
       "      <td>1.000000</td>\n",
       "      <td>-0.369226</td>\n",
       "      <td>0.083081</td>\n",
       "      <td>0.018443</td>\n",
       "      <td>-0.549500</td>\n",
       "    </tr>\n",
       "    <tr>\n",
       "      <th>Age</th>\n",
       "      <td>0.036847</td>\n",
       "      <td>-0.077221</td>\n",
       "      <td>-0.369226</td>\n",
       "      <td>1.000000</td>\n",
       "      <td>-0.308247</td>\n",
       "      <td>-0.189119</td>\n",
       "      <td>0.096067</td>\n",
       "    </tr>\n",
       "    <tr>\n",
       "      <th>SibSp</th>\n",
       "      <td>-0.057527</td>\n",
       "      <td>-0.035322</td>\n",
       "      <td>0.083081</td>\n",
       "      <td>-0.308247</td>\n",
       "      <td>1.000000</td>\n",
       "      <td>0.414838</td>\n",
       "      <td>0.159651</td>\n",
       "    </tr>\n",
       "    <tr>\n",
       "      <th>Parch</th>\n",
       "      <td>-0.001652</td>\n",
       "      <td>0.081629</td>\n",
       "      <td>0.018443</td>\n",
       "      <td>-0.189119</td>\n",
       "      <td>0.414838</td>\n",
       "      <td>1.000000</td>\n",
       "      <td>0.216225</td>\n",
       "    </tr>\n",
       "    <tr>\n",
       "      <th>Fare</th>\n",
       "      <td>0.012658</td>\n",
       "      <td>0.257307</td>\n",
       "      <td>-0.549500</td>\n",
       "      <td>0.096067</td>\n",
       "      <td>0.159651</td>\n",
       "      <td>0.216225</td>\n",
       "      <td>1.000000</td>\n",
       "    </tr>\n",
       "  </tbody>\n",
       "</table>\n",
       "</div>"
      ],
      "text/plain": [
       "             PassengerId  Survived    Pclass       Age     SibSp     Parch  \\\n",
       "PassengerId     1.000000 -0.005007 -0.035144  0.036847 -0.057527 -0.001652   \n",
       "Survived       -0.005007  1.000000 -0.338481 -0.077221 -0.035322  0.081629   \n",
       "Pclass         -0.035144 -0.338481  1.000000 -0.369226  0.083081  0.018443   \n",
       "Age             0.036847 -0.077221 -0.369226  1.000000 -0.308247 -0.189119   \n",
       "SibSp          -0.057527 -0.035322  0.083081 -0.308247  1.000000  0.414838   \n",
       "Parch          -0.001652  0.081629  0.018443 -0.189119  0.414838  1.000000   \n",
       "Fare            0.012658  0.257307 -0.549500  0.096067  0.159651  0.216225   \n",
       "\n",
       "                 Fare  \n",
       "PassengerId  0.012658  \n",
       "Survived     0.257307  \n",
       "Pclass      -0.549500  \n",
       "Age          0.096067  \n",
       "SibSp        0.159651  \n",
       "Parch        0.216225  \n",
       "Fare         1.000000  "
      ]
     },
     "execution_count": 6,
     "metadata": {},
     "output_type": "execute_result"
    }
   ],
   "source": [
    "data.corr()"
   ]
  },
  {
   "cell_type": "code",
   "execution_count": 7,
   "id": "a95faed5",
   "metadata": {},
   "outputs": [
    {
     "name": "stdout",
     "output_type": "stream",
     "text": [
      "<class 'pandas.core.frame.DataFrame'>\n",
      "RangeIndex: 891 entries, 0 to 890\n",
      "Data columns (total 12 columns):\n",
      " #   Column       Non-Null Count  Dtype  \n",
      "---  ------       --------------  -----  \n",
      " 0   PassengerId  891 non-null    int64  \n",
      " 1   Survived     891 non-null    int64  \n",
      " 2   Pclass       891 non-null    int64  \n",
      " 3   Name         891 non-null    object \n",
      " 4   Sex          891 non-null    object \n",
      " 5   Age          714 non-null    float64\n",
      " 6   SibSp        891 non-null    int64  \n",
      " 7   Parch        891 non-null    int64  \n",
      " 8   Ticket       891 non-null    object \n",
      " 9   Fare         891 non-null    float64\n",
      " 10  Cabin        204 non-null    object \n",
      " 11  Embarked     889 non-null    object \n",
      "dtypes: float64(2), int64(5), object(5)\n",
      "memory usage: 83.7+ KB\n"
     ]
    }
   ],
   "source": [
    "data.info()"
   ]
  },
  {
   "cell_type": "code",
   "execution_count": 8,
   "id": "962afb26",
   "metadata": {},
   "outputs": [
    {
     "data": {
      "text/plain": [
       "(891, 12)"
      ]
     },
     "execution_count": 8,
     "metadata": {},
     "output_type": "execute_result"
    }
   ],
   "source": [
    "data.shape"
   ]
  },
  {
   "cell_type": "code",
   "execution_count": 9,
   "id": "5eba2f7d",
   "metadata": {},
   "outputs": [
    {
     "data": {
      "text/plain": [
       "Index(['PassengerId', 'Survived', 'Pclass', 'Name', 'Sex', 'Age', 'SibSp',\n",
       "       'Parch', 'Ticket', 'Fare', 'Cabin', 'Embarked'],\n",
       "      dtype='object')"
      ]
     },
     "execution_count": 9,
     "metadata": {},
     "output_type": "execute_result"
    }
   ],
   "source": [
    "data.columns"
   ]
  },
  {
   "cell_type": "code",
   "execution_count": 10,
   "id": "8dbb7cf6",
   "metadata": {},
   "outputs": [
    {
     "data": {
      "text/plain": [
       "PassengerId      0\n",
       "Survived         0\n",
       "Pclass           0\n",
       "Name             0\n",
       "Sex              0\n",
       "Age            177\n",
       "SibSp            0\n",
       "Parch            0\n",
       "Ticket           0\n",
       "Fare             0\n",
       "Cabin          687\n",
       "Embarked         2\n",
       "dtype: int64"
      ]
     },
     "execution_count": 10,
     "metadata": {},
     "output_type": "execute_result"
    }
   ],
   "source": [
    "data.isnull().sum()"
   ]
  },
  {
   "cell_type": "code",
   "execution_count": 11,
   "id": "63a83f40",
   "metadata": {},
   "outputs": [
    {
     "data": {
      "text/plain": [
       "PassengerId    0\n",
       "Survived       0\n",
       "Pclass         0\n",
       "Name           0\n",
       "Sex            0\n",
       "Age            0\n",
       "SibSp          0\n",
       "Parch          0\n",
       "Ticket         0\n",
       "Fare           0\n",
       "Cabin          0\n",
       "Embarked       0\n",
       "dtype: int64"
      ]
     },
     "execution_count": 11,
     "metadata": {},
     "output_type": "execute_result"
    }
   ],
   "source": [
    "data['Age'].isnull().sum()\n",
    "data['Embarked'].isnull().sum()\n",
    "data['Cabin'].isnull().sum()\n",
    "data= data.dropna(subset=['Age'])\n",
    "data= data.dropna(subset=['Embarked'])\n",
    "data= data.dropna(subset=['Cabin'])\n",
    "data.isnull().sum()"
   ]
  },
  {
   "cell_type": "code",
   "execution_count": 12,
   "id": "21c1b80f",
   "metadata": {},
   "outputs": [
    {
     "data": {
      "text/plain": [
       "PassengerId    0\n",
       "Survived       0\n",
       "Pclass         0\n",
       "Name           0\n",
       "Sex            0\n",
       "Age            0\n",
       "SibSp          0\n",
       "Parch          0\n",
       "Ticket         0\n",
       "Fare           0\n",
       "Cabin          0\n",
       "Embarked       0\n",
       "dtype: int64"
      ]
     },
     "execution_count": 12,
     "metadata": {},
     "output_type": "execute_result"
    }
   ],
   "source": [
    "data.isnull().sum()"
   ]
  },
  {
   "cell_type": "code",
   "execution_count": 13,
   "id": "b8afe695",
   "metadata": {},
   "outputs": [
    {
     "data": {
      "text/plain": [
       "0"
      ]
     },
     "execution_count": 13,
     "metadata": {},
     "output_type": "execute_result"
    }
   ],
   "source": [
    "data.duplicated().sum()"
   ]
  },
  {
   "cell_type": "code",
   "execution_count": 14,
   "id": "8ce09a1a",
   "metadata": {},
   "outputs": [
    {
     "name": "stdout",
     "output_type": "stream",
     "text": [
      "PassengerId\n",
      "[  2   4   7  11  12  22  24  28  53  55  63  67  76  89  93  97  98 103\n",
      " 111 119 124 125 137 138 140 149 152 171 175 178 184 194 195 196 206 210\n",
      " 216 219 225 231 246 249 252 253 258 263 264 269 270 274 276 292 293 298\n",
      " 300 306 308 310 311 312 319 320 326 328 330 332 333 337 338 340 341 342\n",
      " 346 357 367 370 371 378 391 394 395 413 430 431 435 436 439 446 450 453\n",
      " 454 457 461 463 474 485 487 488 493 497 499 505 506 513 516 517 521 524\n",
      " 537 540 541 545 551 557 559 572 573 578 582 584 586 588 592 600 610 619\n",
      " 622 626 628 631 633 642 646 648 660 663 672 680 682 690 691 699 700 701\n",
      " 702 708 711 713 716 717 718 725 731 738 742 743 746 749 752 760 764 766\n",
      " 773 780 782 783 790 797 803 807 810 821 824 836 854 858 863 868 872 873\n",
      " 880 888 890]\n",
      "Survived\n",
      "[1 0]\n",
      "Pclass\n",
      "[1 3 2]\n",
      "Name\n",
      "['Cumings, Mrs. John Bradley (Florence Briggs Thayer)'\n",
      " 'Futrelle, Mrs. Jacques Heath (Lily May Peel)' 'McCarthy, Mr. Timothy J'\n",
      " 'Sandstrom, Miss. Marguerite Rut' 'Bonnell, Miss. Elizabeth'\n",
      " 'Beesley, Mr. Lawrence' 'Sloper, Mr. William Thompson'\n",
      " 'Fortune, Mr. Charles Alexander'\n",
      " 'Harper, Mrs. Henry Sleeper (Myna Haxtun)'\n",
      " 'Ostby, Mr. Engelhart Cornelius' 'Harris, Mr. Henry Birkhardt'\n",
      " 'Nye, Mrs. (Elizabeth Ramell)' 'Moen, Mr. Sigurd Hansen'\n",
      " 'Fortune, Miss. Mabel Helen' 'Chaffee, Mr. Herbert Fuller'\n",
      " 'Goldschmidt, Mr. George B' 'Greenfield, Mr. William Bertram'\n",
      " 'White, Mr. Richard Frasar' 'Porter, Mr. Walter Chamberlain'\n",
      " 'Baxter, Mr. Quigg Edmond' 'Webber, Miss. Susan'\n",
      " 'White, Mr. Percival Wayland' 'Newsom, Miss. Helen Monypeny'\n",
      " 'Futrelle, Mr. Jacques Heath' 'Giglio, Mr. Victor'\n",
      " 'Navratil, Mr. Michel (\"Louis M Hoffman\")'\n",
      " 'Pears, Mrs. Thomas (Edith Wearne)' 'Van der hoef, Mr. Wyckoff'\n",
      " 'Smith, Mr. James Clinch' 'Isham, Miss. Ann Elizabeth'\n",
      " 'Becker, Master. Richard F' 'Navratil, Master. Michel M'\n",
      " 'Brown, Mrs. James Joseph (Margaret Tobin)' 'Lurette, Miss. Elise'\n",
      " 'Strom, Miss. Telma Matilda' 'Blank, Mr. Henry' 'Newell, Miss. Madeleine'\n",
      " 'Bazzani, Miss. Albina' 'Hoyt, Mr. Frederick Maxfield'\n",
      " 'Harris, Mrs. Henry Birkhardt (Irene Wallach)'\n",
      " 'Minahan, Dr. William Edward' 'Beckwith, Mr. Richard Leonard'\n",
      " 'Strom, Mrs. Wilhelm (Elna Matilda Persson)' 'Stead, Mr. William Thomas'\n",
      " 'Cherry, Miss. Gladys' 'Taussig, Mr. Emil' 'Harrison, Mr. William'\n",
      " 'Graham, Mrs. William Thompson (Edith Junkins)' 'Bissette, Miss. Amelia'\n",
      " 'Natsch, Mr. Charles H' 'Andrews, Miss. Kornelia Theodosia'\n",
      " 'Bishop, Mrs. Dickinson H (Helen Walton)' 'Levy, Mr. Rene Jacques'\n",
      " 'Allison, Miss. Helen Loraine'\n",
      " 'Baxter, Mrs. James (Helene DeLaudeniere Chaput)'\n",
      " 'Allison, Master. Hudson Trevor'\n",
      " 'Penasco y Castellana, Mrs. Victor de Satode (Maria Josefa Perez de Soto y Vallejo)'\n",
      " 'Francatelli, Miss. Laura Mabel' 'Hays, Miss. Margaret Bechstein'\n",
      " 'Ryerson, Miss. Emily Borie' 'Wick, Miss. Mary Natalie'\n",
      " 'Spedden, Mrs. Frederic Oakley (Margaretta Corning Stone)'\n",
      " 'Young, Miss. Marie Grice' 'Ball, Mrs. (Ada E Hall)'\n",
      " 'Hippach, Miss. Jean Gertrude' 'Partner, Mr. Austen'\n",
      " 'Graham, Mr. George Edward' 'Pears, Mr. Thomas Clinton'\n",
      " 'Burns, Miss. Elizabeth Margaret' 'Blackwell, Mr. Stephen Weart'\n",
      " 'Navratil, Master. Edmond Roger' 'Fortune, Miss. Alice Elizabeth'\n",
      " 'Brown, Miss. Amelia \"Mildred\"' 'Bowerman, Miss. Elsie Edith'\n",
      " 'Warren, Mrs. Frank Manley (Anna Sophia Atkinson)'\n",
      " 'Aubart, Mme. Leontine Pauline' 'Harder, Mr. George Achilles'\n",
      " 'Widener, Mr. Harry Elkins' 'Carter, Mr. William Ernest'\n",
      " 'Newell, Miss. Marjorie'\n",
      " 'Sandstrom, Mrs. Hjalmar (Agnes Charlotta Bengtsson)'\n",
      " 'Minahan, Miss. Daisy E' 'Pickard, Mr. Berk (Berk Trembisky)'\n",
      " 'Bjornstrom-Steffansson, Mr. Mauritz Hakan' 'Silvey, Mr. William Baird'\n",
      " 'Carter, Miss. Lucile Polk' 'Fortune, Mr. Mark'\n",
      " 'Dodge, Master. Washington' 'Peuchen, Major. Arthur Godfrey'\n",
      " 'Foreman, Mr. Benjamin Laventall' 'Goldenberg, Mr. Samuel L'\n",
      " 'Millet, Mr. Francis Davis' 'Anderson, Mr. Harry' 'Gee, Mr. Arthur H'\n",
      " 'Jerwan, Mrs. Amin S (Marie Marthe Thuillard)' 'Bishop, Mr. Dickinson H'\n",
      " 'Hoyt, Mrs. Frederick Maxfield (Jane Anne Forby)'\n",
      " 'Kent, Mr. Edward Austin' 'Molson, Mr. Harry Markland'\n",
      " 'Eustis, Miss. Elizabeth Mussey'\n",
      " 'Allison, Mrs. Hudson J C (Bessie Waldo Daniels)' 'Maioni, Miss. Roberta'\n",
      " 'Penasco y Castellana, Mr. Victor de Satode' 'McGough, Mr. James Robert'\n",
      " 'Walker, Mr. William Anderson' 'Lemore, Mrs. (Amelia Milley)'\n",
      " 'Perreault, Miss. Anne' 'Hippach, Mrs. Louis Albert (Ida Sophia Fischer)'\n",
      " 'Butt, Major. Archibald Willingham' 'Frolicher, Miss. Hedwig Margaritha'\n",
      " 'Crosby, Miss. Harriet R' 'Douglas, Mr. Walter Donald'\n",
      " 'Thayer, Mr. John Borland Jr'\n",
      " 'Duff Gordon, Lady. (Lucille Christiana Sutherland) (\"Mrs Morgan\")'\n",
      " 'Taussig, Mrs. Emil (Tillie Mandelbaum)'\n",
      " 'Appleton, Mrs. Edward Dale (Charlotte Lamson)'\n",
      " 'Flynn, Mr. John Irwin (\"Irving\")'\n",
      " 'Silvey, Mrs. William Baird (Alice Munger)'\n",
      " 'Thayer, Mrs. John Borland (Marian Longstreth Morris)'\n",
      " 'Ross, Mr. John Hugo' 'Taussig, Miss. Ruth'\n",
      " 'Frolicher-Stehli, Mr. Maxmillian'\n",
      " 'Stephenson, Mrs. Walter Bertram (Martha Eustis)'\n",
      " 'Duff Gordon, Sir. Cosmo Edmund (\"Mr Morgan\")'\n",
      " 'Shutes, Miss. Elizabeth W' 'Becker, Miss. Marion Louise'\n",
      " 'Kimball, Mr. Edwin Nelson Jr' 'Sutton, Mr. Frederick'\n",
      " 'Longley, Miss. Gretchen Fiske' 'Barkworth, Mr. Algernon Henry Wilson'\n",
      " 'Stahelin-Maeglin, Dr. Max' 'Sagesser, Mlle. Emma'\n",
      " 'Harper, Mr. Henry Sleeper' 'Simonius-Blumer, Col. Oberst Alfons'\n",
      " 'Newell, Mr. Arthur Webster' 'Colley, Mr. Edward Pomeroy'\n",
      " 'Davidson, Mr. Thornton' 'Cardeza, Mr. Thomas Drake Martinez'\n",
      " 'Hassab, Mr. Hammad' 'Madill, Miss. Georgette Alexandra'\n",
      " 'Dick, Mr. Albert Adrian' 'Thayer, Mr. John Borland'\n",
      " 'Humblen, Mr. Adolf Mathias Nicolai Olsen'\n",
      " 'Astor, Mrs. John Jacob (Madeleine Talmadge Force)'\n",
      " 'Silverthorne, Mr. Spencer Victor' 'Calderhead, Mr. Edward Pennington'\n",
      " 'Mayne, Mlle. Berthe Antonine (\"Mrs de Villiers\")'\n",
      " 'Taylor, Mr. Elmer Zebley' 'Soholt, Mr. Peter Andreas Lauritz Andersen'\n",
      " 'Endres, Miss. Caroline Louise' 'Troutt, Miss. Edwina Celia \"Winnie\"'\n",
      " 'Chambers, Mr. Norman Campbell' 'Allen, Miss. Elisabeth Walton'\n",
      " 'Lesurer, Mr. Gustave J' 'Cavendish, Mr. Tyrell William'\n",
      " 'Ryerson, Miss. Susan Parker \"Suzette\"' 'Crosby, Capt. Edward Gifford'\n",
      " 'Marvin, Mr. Daniel Warner' 'Moor, Master. Meier'\n",
      " 'Rothes, the Countess. of (Lucy Noel Martha Dyer-Edwards)'\n",
      " 'Carter, Mrs. William Ernest (Lucile Polk)'\n",
      " 'Hogeboom, Mrs. John C (Anna Andrews)' 'Mack, Mrs. (Mary)'\n",
      " 'Robert, Mrs. Edward Scott (Elisabeth Walton McMillan)'\n",
      " 'Dick, Mrs. Albert Adrian (Vera Gillespie)' 'Long, Mr. Milton Clyde'\n",
      " 'Guggenheim, Mr. Benjamin' 'Leader, Dr. Alice (Farnham)'\n",
      " 'Carter, Master. William Thornton II' 'Andrews, Mr. Thomas Jr'\n",
      " 'Chambers, Mrs. Norman Campbell (Bertha Griggs)'\n",
      " 'Hays, Mrs. Charles Melville (Clara Jennings Gregg)' 'Moor, Mrs. (Beila)'\n",
      " 'Compton, Miss. Sara Rebecca' 'Lines, Miss. Mary Conover'\n",
      " 'Daly, Mr. Peter Denis '\n",
      " 'Swift, Mrs. Frederick Joel (Margaret Welles Barron)'\n",
      " 'Roebling, Mr. Washington Augustus II'\n",
      " 'Beckwith, Mrs. Richard Leonard (Sallie Monypeny)'\n",
      " 'Carlsson, Mr. Frans Olof'\n",
      " 'Potter, Mrs. Thomas Jr (Lily Alexenia Wilson)'\n",
      " 'Graham, Miss. Margaret Edith' 'Behr, Mr. Karl Howell']\n",
      "Sex\n",
      "['female' 'male']\n",
      "Age\n",
      "[38.   35.   54.    4.   58.   34.   28.   19.   49.   65.   45.   29.\n",
      " 25.   23.   46.   71.   21.   47.   24.   32.5  37.   36.5  22.   61.\n",
      " 56.   50.    1.    3.   44.    2.   40.   31.   32.   62.   30.   52.\n",
      " 63.   36.    0.92 17.   18.   16.   45.5  41.   60.   27.   33.   14.\n",
      " 64.   48.   55.   39.   53.   42.   80.   15.   70.    6.   51.   57.\n",
      " 43.   11.   26.  ]\n",
      "SibSp\n",
      "[1 0 3 2]\n",
      "Parch\n",
      "[0 1 2 4]\n",
      "Ticket\n",
      "['PC 17599' '113803' '17463' 'PP 9549' '113783' '248698' '113788' '19950'\n",
      " 'PC 17572' '113509' '36973' 'C.A. 29395' '348123' 'W.E.P. 5734'\n",
      " 'PC 17754' 'PC 17759' '35281' '110465' 'PC 17558' '27267' '11752'\n",
      " 'PC 17593' '230080' '113776' '111240' '17764' 'PC 17595' '230136'\n",
      " 'PC 17610' 'PC 17569' '347054' '112277' '35273' '11813' '19943' '19928'\n",
      " '11751' '113514' '110152' '110413' '112059' 'PC 17582' 'PC 17760'\n",
      " 'PC 17596' '13502' '11967' 'SC/Paris 2163' '113781' 'PC 17758' 'PC 17485'\n",
      " '11767' 'PC 17608' '36928' '16966' '28551' '111361' '113043' '113784'\n",
      " '248733' '113505' '110813' 'PC 17477' '11765' '113503' '113760'\n",
      " 'SOTON/O.Q. 392078' '110564' '13507' '33638' '113786' '113051' '17453'\n",
      " '13509' '19952' '111320' 'SC/AH Basle 541' '11771' '113787' '36947'\n",
      " 'PC 17473' '36967' 'C.A. 34260' '12749' '113050' '13568' 'WE/P 5735'\n",
      " 'PC 17761' '17421' '11755' '11769' 'PC 17474' '13049' '13567' '11753'\n",
      " '36963' '27042' '13214' '13213' '5727' 'F.C. 12750' 'PC 17755' '24160'\n",
      " '17474' '348121' 'PC 17757' 'PC 17475' 'PC 17476' 'PC 17482' '19996'\n",
      " '348124' '34218' '113806' '19877' '113773' '392096' 'S.O./P.P. 3'\n",
      " '113501' '17465' '112050' 'PC 17756' 'PC 17592' '113055' '17466'\n",
      " 'PC 17590' '695' '112053' '111369']\n",
      "Fare\n",
      "[ 71.2833  53.1     51.8625  16.7     26.55    13.      35.5    263.\n",
      "  76.7292  61.9792  83.475   10.5      7.65    61.175   34.6542  63.3583\n",
      "  77.2875  52.     247.5208  26.2833  79.2     26.      66.6     33.5\n",
      "  30.6958  28.7125  39.      27.7208 146.5208  10.4625  31.     113.275\n",
      "  76.2917  90.      52.5542  86.5     79.65     0.     153.4625 135.6333\n",
      "  29.7     77.9583  91.0792  12.875  151.55   108.9     56.9292  83.1583\n",
      " 262.375  164.8667 134.5     57.9792  28.5     55.      75.25    69.3\n",
      "  55.4417 211.5    120.       8.05    55.9     81.8583  30.5     27.75\n",
      "  89.1042  38.5     13.7917  78.2667  26.2875  34.0208  93.5     49.5\n",
      "  71.     106.425  110.8833  39.6     51.4792  26.3875  40.125   32.3208\n",
      "  30.      25.5875 512.3292 211.3375  57.     227.525   49.5042  78.85\n",
      "  12.475   25.9292  39.4     50.4958   5.    ]\n",
      "Cabin\n",
      "['C85' 'C123' 'E46' 'G6' 'C103' 'D56' 'A6' 'C23 C25 C27' 'D33' 'B30' 'C83'\n",
      " 'F33' 'F G73' 'E31' 'A5' 'D10 D12' 'D26' 'C110' 'B58 B60' 'E101' 'D47'\n",
      " 'B86' 'F2' 'C2' 'B19' 'A7' 'C49' 'F4' 'B4' 'B80' 'A31' 'D36' 'D15' 'C93'\n",
      " 'C78' 'D35' 'C87' 'B77' 'E67' 'B94' 'C125' 'C99' 'C118' 'D7' 'B49' 'D'\n",
      " 'C22 C26' 'C65' 'E36' 'C54' 'B57 B59 B63 B66' 'C7' 'E34' 'C32' 'B18'\n",
      " 'C124' 'C91' 'E40' 'T' 'E33' 'D37' 'B35' 'E50' 'C82' 'B96 B98' 'E10'\n",
      " 'C52' 'E44' 'A34' 'C104' 'C111' 'C92' 'E38' 'E12' 'E63' 'B37' 'C30' 'D20'\n",
      " 'B79' 'E25' 'D46' 'B73' 'B38' 'B39' 'B22' 'C86' 'C70' 'A16' 'C101' 'C68'\n",
      " 'A10' 'E68' 'B41' 'A20' 'D19' 'D50' 'D9' 'A23' 'B50' 'A26' 'D48' 'E58'\n",
      " 'B71' 'B51 B53 B55' 'D49' 'B5' 'B20' 'F G63' 'C62 C64' 'E24' 'C90' 'C126'\n",
      " 'C45' 'E8' 'B101' 'C46' 'D30' 'E121' 'D11' 'E77' 'B3' 'D6' 'B82 B84'\n",
      " 'D17' 'A36' 'B69' 'E49' 'D28' 'E17' 'A24' 'C50' 'B42' 'C148']\n",
      "Embarked\n",
      "['C' 'S' 'Q']\n"
     ]
    }
   ],
   "source": [
    "for i in data.columns:\n",
    "    print(i)\n",
    "    print(data[i].unique())"
   ]
  },
  {
   "cell_type": "code",
   "execution_count": 15,
   "id": "cbde5868",
   "metadata": {},
   "outputs": [
    {
     "data": {
      "text/plain": [
       "array([  2,   4,   7,  11,  12,  22,  24,  28,  53,  55,  63,  67,  76,\n",
       "        89,  93,  97,  98, 103, 111, 119, 124, 125, 137, 138, 140, 149,\n",
       "       152, 171, 175, 178, 184, 194, 195, 196, 206, 210, 216, 219, 225,\n",
       "       231, 246, 249, 252, 253, 258, 263, 264, 269, 270, 274, 276, 292,\n",
       "       293, 298, 300, 306, 308, 310, 311, 312, 319, 320, 326, 328, 330,\n",
       "       332, 333, 337, 338, 340, 341, 342, 346, 357, 367, 370, 371, 378,\n",
       "       391, 394, 395, 413, 430, 431, 435, 436, 439, 446, 450, 453, 454,\n",
       "       457, 461, 463, 474, 485, 487, 488, 493, 497, 499, 505, 506, 513,\n",
       "       516, 517, 521, 524, 537, 540, 541, 545, 551, 557, 559, 572, 573,\n",
       "       578, 582, 584, 586, 588, 592, 600, 610, 619, 622, 626, 628, 631,\n",
       "       633, 642, 646, 648, 660, 663, 672, 680, 682, 690, 691, 699, 700,\n",
       "       701, 702, 708, 711, 713, 716, 717, 718, 725, 731, 738, 742, 743,\n",
       "       746, 749, 752, 760, 764, 766, 773, 780, 782, 783, 790, 797, 803,\n",
       "       807, 810, 821, 824, 836, 854, 858, 863, 868, 872, 873, 880, 888,\n",
       "       890], dtype=int64)"
      ]
     },
     "execution_count": 15,
     "metadata": {},
     "output_type": "execute_result"
    }
   ],
   "source": [
    "data['PassengerId'].unique()"
   ]
  },
  {
   "cell_type": "code",
   "execution_count": 16,
   "id": "d540d829",
   "metadata": {},
   "outputs": [
    {
     "data": {
      "text/plain": [
       "array([1, 0], dtype=int64)"
      ]
     },
     "execution_count": 16,
     "metadata": {},
     "output_type": "execute_result"
    }
   ],
   "source": [
    "data['Survived'].unique()"
   ]
  },
  {
   "cell_type": "code",
   "execution_count": 17,
   "id": "59cfd773",
   "metadata": {},
   "outputs": [
    {
     "data": {
      "text/plain": [
       "array([1, 3, 2], dtype=int64)"
      ]
     },
     "execution_count": 17,
     "metadata": {},
     "output_type": "execute_result"
    }
   ],
   "source": [
    "data['Pclass'].unique()"
   ]
  },
  {
   "cell_type": "code",
   "execution_count": 18,
   "id": "885cd014",
   "metadata": {},
   "outputs": [
    {
     "data": {
      "text/plain": [
       "array([38.  , 35.  , 54.  ,  4.  , 58.  , 34.  , 28.  , 19.  , 49.  ,\n",
       "       65.  , 45.  , 29.  , 25.  , 23.  , 46.  , 71.  , 21.  , 47.  ,\n",
       "       24.  , 32.5 , 37.  , 36.5 , 22.  , 61.  , 56.  , 50.  ,  1.  ,\n",
       "        3.  , 44.  ,  2.  , 40.  , 31.  , 32.  , 62.  , 30.  , 52.  ,\n",
       "       63.  , 36.  ,  0.92, 17.  , 18.  , 16.  , 45.5 , 41.  , 60.  ,\n",
       "       27.  , 33.  , 14.  , 64.  , 48.  , 55.  , 39.  , 53.  , 42.  ,\n",
       "       80.  , 15.  , 70.  ,  6.  , 51.  , 57.  , 43.  , 11.  , 26.  ])"
      ]
     },
     "execution_count": 18,
     "metadata": {},
     "output_type": "execute_result"
    }
   ],
   "source": [
    "data['Age'].unique()"
   ]
  },
  {
   "cell_type": "code",
   "execution_count": 19,
   "id": "aa0be466",
   "metadata": {},
   "outputs": [
    {
     "data": {
      "text/plain": [
       "array([1, 0, 3, 2], dtype=int64)"
      ]
     },
     "execution_count": 19,
     "metadata": {},
     "output_type": "execute_result"
    }
   ],
   "source": [
    "data['SibSp'].unique()"
   ]
  },
  {
   "cell_type": "code",
   "execution_count": 20,
   "id": "3fd3b80b",
   "metadata": {},
   "outputs": [
    {
     "data": {
      "text/plain": [
       "array([0, 1, 2, 4], dtype=int64)"
      ]
     },
     "execution_count": 20,
     "metadata": {},
     "output_type": "execute_result"
    }
   ],
   "source": [
    "data['Parch'].unique()"
   ]
  },
  {
   "cell_type": "code",
   "execution_count": 21,
   "id": "1c39037b",
   "metadata": {},
   "outputs": [
    {
     "data": {
      "text/plain": [
       "array([ 71.2833,  53.1   ,  51.8625,  16.7   ,  26.55  ,  13.    ,\n",
       "        35.5   , 263.    ,  76.7292,  61.9792,  83.475 ,  10.5   ,\n",
       "         7.65  ,  61.175 ,  34.6542,  63.3583,  77.2875,  52.    ,\n",
       "       247.5208,  26.2833,  79.2   ,  26.    ,  66.6   ,  33.5   ,\n",
       "        30.6958,  28.7125,  39.    ,  27.7208, 146.5208,  10.4625,\n",
       "        31.    , 113.275 ,  76.2917,  90.    ,  52.5542,  86.5   ,\n",
       "        79.65  ,   0.    , 153.4625, 135.6333,  29.7   ,  77.9583,\n",
       "        91.0792,  12.875 , 151.55  , 108.9   ,  56.9292,  83.1583,\n",
       "       262.375 , 164.8667, 134.5   ,  57.9792,  28.5   ,  55.    ,\n",
       "        75.25  ,  69.3   ,  55.4417, 211.5   , 120.    ,   8.05  ,\n",
       "        55.9   ,  81.8583,  30.5   ,  27.75  ,  89.1042,  38.5   ,\n",
       "        13.7917,  78.2667,  26.2875,  34.0208,  93.5   ,  49.5   ,\n",
       "        71.    , 106.425 , 110.8833,  39.6   ,  51.4792,  26.3875,\n",
       "        40.125 ,  32.3208,  30.    ,  25.5875, 512.3292, 211.3375,\n",
       "        57.    , 227.525 ,  49.5042,  78.85  ,  12.475 ,  25.9292,\n",
       "        39.4   ,  50.4958,   5.    ])"
      ]
     },
     "execution_count": 21,
     "metadata": {},
     "output_type": "execute_result"
    }
   ],
   "source": [
    "data['Fare'].unique()"
   ]
  },
  {
   "cell_type": "code",
   "execution_count": 22,
   "id": "1922d8ec",
   "metadata": {},
   "outputs": [
    {
     "data": {
      "text/plain": [
       "PassengerId      int64\n",
       "Survived         int64\n",
       "Pclass           int64\n",
       "Name            object\n",
       "Sex             object\n",
       "Age            float64\n",
       "SibSp            int64\n",
       "Parch            int64\n",
       "Ticket          object\n",
       "Fare           float64\n",
       "Cabin           object\n",
       "Embarked        object\n",
       "dtype: object"
      ]
     },
     "execution_count": 22,
     "metadata": {},
     "output_type": "execute_result"
    }
   ],
   "source": [
    "data.dtypes"
   ]
  },
  {
   "cell_type": "code",
   "execution_count": 23,
   "id": "5ee52019",
   "metadata": {},
   "outputs": [
    {
     "data": {
      "text/plain": [
       "1      False\n",
       "3      False\n",
       "6      False\n",
       "10     False\n",
       "11     False\n",
       "       ...  \n",
       "871    False\n",
       "872    False\n",
       "879    False\n",
       "887    False\n",
       "889    False\n",
       "Length: 183, dtype: bool"
      ]
     },
     "execution_count": 23,
     "metadata": {},
     "output_type": "execute_result"
    }
   ],
   "source": [
    "data.duplicated()"
   ]
  },
  {
   "cell_type": "code",
   "execution_count": 24,
   "id": "e8bf2327",
   "metadata": {},
   "outputs": [
    {
     "data": {
      "text/plain": [
       "0"
      ]
     },
     "execution_count": 24,
     "metadata": {},
     "output_type": "execute_result"
    }
   ],
   "source": [
    "data.duplicated().sum()"
   ]
  },
  {
   "cell_type": "code",
   "execution_count": 25,
   "id": "c5648849",
   "metadata": {},
   "outputs": [
    {
     "data": {
      "text/plain": [
       "PassengerId    183\n",
       "Survived         2\n",
       "Pclass           3\n",
       "Name           183\n",
       "Sex              2\n",
       "Age             63\n",
       "SibSp            4\n",
       "Parch            4\n",
       "Ticket         127\n",
       "Fare            93\n",
       "Cabin          133\n",
       "Embarked         3\n",
       "dtype: int64"
      ]
     },
     "execution_count": 25,
     "metadata": {},
     "output_type": "execute_result"
    }
   ],
   "source": [
    "data.nunique()"
   ]
  },
  {
   "cell_type": "code",
   "execution_count": 26,
   "id": "58a1861b",
   "metadata": {},
   "outputs": [
    {
     "data": {
      "text/plain": [
       "2      1\n",
       "572    1\n",
       "578    1\n",
       "582    1\n",
       "584    1\n",
       "      ..\n",
       "328    1\n",
       "330    1\n",
       "332    1\n",
       "333    1\n",
       "890    1\n",
       "Name: PassengerId, Length: 183, dtype: int64"
      ]
     },
     "execution_count": 26,
     "metadata": {},
     "output_type": "execute_result"
    }
   ],
   "source": [
    "data['PassengerId'].value_counts()"
   ]
  },
  {
   "cell_type": "code",
   "execution_count": 27,
   "id": "98fc63c6",
   "metadata": {},
   "outputs": [
    {
     "data": {
      "text/plain": [
       "1    123\n",
       "0     60\n",
       "Name: Survived, dtype: int64"
      ]
     },
     "execution_count": 27,
     "metadata": {},
     "output_type": "execute_result"
    }
   ],
   "source": [
    "data['Survived'].value_counts()"
   ]
  },
  {
   "cell_type": "code",
   "execution_count": 28,
   "id": "5222deae",
   "metadata": {},
   "outputs": [
    {
     "data": {
      "text/plain": [
       "1    158\n",
       "2     15\n",
       "3     10\n",
       "Name: Pclass, dtype: int64"
      ]
     },
     "execution_count": 28,
     "metadata": {},
     "output_type": "execute_result"
    }
   ],
   "source": [
    "data['Pclass'].value_counts()"
   ]
  },
  {
   "cell_type": "code",
   "execution_count": 29,
   "id": "380546b2",
   "metadata": {},
   "outputs": [
    {
     "data": {
      "text/plain": [
       "Cumings, Mrs. John Bradley (Florence Briggs Thayer)     1\n",
       "Appleton, Mrs. Edward Dale (Charlotte Lamson)           1\n",
       "Silvey, Mrs. William Baird (Alice Munger)               1\n",
       "Thayer, Mrs. John Borland (Marian Longstreth Morris)    1\n",
       "Ross, Mr. John Hugo                                     1\n",
       "                                                       ..\n",
       "Ball, Mrs. (Ada E Hall)                                 1\n",
       "Hippach, Miss. Jean Gertrude                            1\n",
       "Partner, Mr. Austen                                     1\n",
       "Graham, Mr. George Edward                               1\n",
       "Behr, Mr. Karl Howell                                   1\n",
       "Name: Name, Length: 183, dtype: int64"
      ]
     },
     "execution_count": 29,
     "metadata": {},
     "output_type": "execute_result"
    }
   ],
   "source": [
    "data['Name'].value_counts()"
   ]
  },
  {
   "cell_type": "code",
   "execution_count": 30,
   "id": "2f8b7ea5",
   "metadata": {},
   "outputs": [
    {
     "data": {
      "text/plain": [
       "male      95\n",
       "female    88\n",
       "Name: Sex, dtype: int64"
      ]
     },
     "execution_count": 30,
     "metadata": {},
     "output_type": "execute_result"
    }
   ],
   "source": [
    "data['Sex'].value_counts()"
   ]
  },
  {
   "cell_type": "code",
   "execution_count": 31,
   "id": "a6f63603",
   "metadata": {},
   "outputs": [
    {
     "data": {
      "text/plain": [
       "36.0    11\n",
       "24.0     9\n",
       "19.0     6\n",
       "35.0     6\n",
       "31.0     5\n",
       "        ..\n",
       "71.0     1\n",
       "3.0      1\n",
       "1.0      1\n",
       "36.5     1\n",
       "26.0     1\n",
       "Name: Age, Length: 63, dtype: int64"
      ]
     },
     "execution_count": 31,
     "metadata": {},
     "output_type": "execute_result"
    }
   ],
   "source": [
    "data['Age'].value_counts()"
   ]
  },
  {
   "cell_type": "code",
   "execution_count": 32,
   "id": "c6e3785b",
   "metadata": {},
   "outputs": [
    {
     "data": {
      "text/plain": [
       "0    110\n",
       "1     64\n",
       "2      6\n",
       "3      3\n",
       "Name: SibSp, dtype: int64"
      ]
     },
     "execution_count": 32,
     "metadata": {},
     "output_type": "execute_result"
    }
   ],
   "source": [
    "data['SibSp'].value_counts()"
   ]
  },
  {
   "cell_type": "code",
   "execution_count": 33,
   "id": "0c766dc2",
   "metadata": {},
   "outputs": [
    {
     "data": {
      "text/plain": [
       "0    122\n",
       "1     37\n",
       "2     23\n",
       "4      1\n",
       "Name: Parch, dtype: int64"
      ]
     },
     "execution_count": 33,
     "metadata": {},
     "output_type": "execute_result"
    }
   ],
   "source": [
    "data['Parch'].value_counts()"
   ]
  },
  {
   "cell_type": "code",
   "execution_count": 34,
   "id": "33465820",
   "metadata": {},
   "outputs": [
    {
     "data": {
      "text/plain": [
       "26.5500     7\n",
       "53.1000     5\n",
       "90.0000     4\n",
       "10.5000     4\n",
       "13.0000     4\n",
       "           ..\n",
       "211.5000    1\n",
       "8.0500      1\n",
       "81.8583     1\n",
       "27.7500     1\n",
       "5.0000      1\n",
       "Name: Fare, Length: 93, dtype: int64"
      ]
     },
     "execution_count": 34,
     "metadata": {},
     "output_type": "execute_result"
    }
   ],
   "source": [
    "data['Fare'].value_counts()"
   ]
  },
  {
   "cell_type": "code",
   "execution_count": 35,
   "id": "ecd66be8",
   "metadata": {},
   "outputs": [
    {
     "data": {
      "text/plain": [
       "<AxesSubplot:>"
      ]
     },
     "execution_count": 35,
     "metadata": {},
     "output_type": "execute_result"
    },
    {
     "data": {
      "image/png": "[encoded data removed]",
      "text/plain": [
       "<Figure size 432x288 with 2 Axes>"
      ]
     },
     "metadata": {
      "needs_background": "light"
     },
     "output_type": "display_data"
    }
   ],
   "source": [
    "corr=data.corr()\n",
    "sns.heatmap(corr,annot=True,cmap='Reds')"
   ]
  },
  {
   "cell_type": "code",
   "execution_count": 36,
   "id": "a5cb4977",
   "metadata": {},
   "outputs": [
    {
     "data": {
      "image/png": "[encoded data removed]",
      "text/plain": [
       "<Figure size 1440x360 with 1 Axes>"
      ]
     },
     "metadata": {
      "needs_background": "light"
     },
     "output_type": "display_data"
    }
   ],
   "source": [
    "data.plot(figsize=(20,5))\n",
    "plt.show()"
   ]
  },
  {
   "cell_type": "code",
   "execution_count": 37,
   "id": "d8b6d20b",
   "metadata": {},
   "outputs": [
    {
     "data": {
      "image/png": "[encoded data removed]",
      "text/plain": [
       "<Figure size 1080x576 with 1 Axes>"
      ]
     },
     "metadata": {
      "needs_background": "light"
     },
     "output_type": "display_data"
    }
   ],
   "source": [
    "plt.figure(figsize=(15,8))\n",
    "sns.countplot(x='Pclass',data = data)\n",
    "plt.xticks(rotation =90)\n",
    "plt.title('Countplot for Pclass')             \n",
    "plt.show()"
   ]
  },
  {
   "cell_type": "code",
   "execution_count": 38,
   "id": "a00e2494",
   "metadata": {},
   "outputs": [
    {
     "data": {
      "text/plain": [
       "(array([0, 1]), [Text(0, 0, 'female'), Text(1, 0, 'male')])"
      ]
     },
     "execution_count": 38,
     "metadata": {},
     "output_type": "execute_result"
    },
    {
     "data": {
      "image/png": "[encoded data removed]",
      "text/plain": [
       "<Figure size 720x576 with 1 Axes>"
      ]
     },
     "metadata": {
      "needs_background": "light"
     },
     "output_type": "display_data"
    }
   ],
   "source": [
    "plt.rcParams['figure.figsize'] = (10,8)\n",
    "sns.countplot(x=data['Sex'])\n",
    "plt.xticks(rotation =0)"
   ]
  },
  {
   "cell_type": "code",
   "execution_count": 44,
   "id": "767afc27",
   "metadata": {},
   "outputs": [
    {
     "name": "stderr",
     "output_type": "stream",
     "text": [
      "C:\\Users\\Admin\\anaconda3\\lib\\site-packages\\seaborn\\distributions.py:2619: FutureWarning: `distplot` is a deprecated function and will be removed in a future version. Please adapt your code to use either `displot` (a figure-level function with similar flexibility) or `histplot` (an axes-level function for histograms).\n",
      "  warnings.warn(msg, FutureWarning)\n"
     ]
    },
    {
     "data": {
      "image/png": "[encoded data removed]",
      "text/plain": [
       "<Figure size 288x144 with 1 Axes>"
      ]
     },
     "metadata": {
      "needs_background": "light"
     },
     "output_type": "display_data"
    }
   ],
   "source": [
    "from matplotlib import rcParams\n",
    "# figure size in inches\n",
    "rcParams['figure.figsize'] = 4,2\n",
    "\n",
    "sns.distplot(data['Survived'])\n",
    "plt.show()\n"
   ]
  },
  {
   "cell_type": "code",
   "execution_count": 47,
   "id": "89c37adb",
   "metadata": {},
   "outputs": [
    {
     "data": {
      "text/plain": [
       "1464"
      ]
     },
     "execution_count": 47,
     "metadata": {},
     "output_type": "execute_result"
    }
   ],
   "source": [
    "data_set = data.filter(['Survived'])\n",
    "dataset = data.values\n",
    "training_data_len=math.ceil(len(data) * 8)\n",
    "training_data_len"
   ]
  },
  {
   "cell_type": "code",
   "execution_count": 48,
   "id": "80e31f32",
   "metadata": {},
   "outputs": [
    {
     "data": {
      "text/plain": [
       "array([[2, nan, 1, ..., 71.2833, 'C85', 'C'],\n",
       "       [4, nan, 1, ..., 53.1, 'C123', 'S'],\n",
       "       [7, nan, 1, ..., 51.8625, 'E46', 'S'],\n",
       "       ...,\n",
       "       [880, 0.7, 1, ..., 83.1583, 'C50', 'C'],\n",
       "       [888, 0.7, 1, ..., 30.0, 'B42', 'S'],\n",
       "       [890, 0.7, 1, ..., 30.0, 'C148', 'C']], dtype=object)"
      ]
     },
     "execution_count": 48,
     "metadata": {},
     "output_type": "execute_result"
    }
   ],
   "source": [
    "dataset"
   ]
  },
  {
   "cell_type": "code",
   "execution_count": 49,
   "id": "457ac72a",
   "metadata": {},
   "outputs": [
    {
     "data": {
      "text/html": [
       "<div>\n",
       "<style scoped>\n",
       "    .dataframe tbody tr th:only-of-type {\n",
       "        vertical-align: middle;\n",
       "    }\n",
       "\n",
       "    .dataframe tbody tr th {\n",
       "        vertical-align: top;\n",
       "    }\n",
       "\n",
       "    .dataframe thead th {\n",
       "        text-align: right;\n",
       "    }\n",
       "</style>\n",
       "<table border=\"1\" class=\"dataframe\">\n",
       "  <thead>\n",
       "    <tr style=\"text-align: right;\">\n",
       "      <th></th>\n",
       "      <th>PassengerId</th>\n",
       "      <th>Survived</th>\n",
       "      <th>Pclass</th>\n",
       "      <th>Name</th>\n",
       "      <th>Sex</th>\n",
       "    </tr>\n",
       "  </thead>\n",
       "  <tbody>\n",
       "    <tr>\n",
       "      <th>1</th>\n",
       "      <td>2</td>\n",
       "      <td>NaN</td>\n",
       "      <td>1</td>\n",
       "      <td>Cumings, Mrs. John Bradley (Florence Briggs Th...</td>\n",
       "      <td>female</td>\n",
       "    </tr>\n",
       "    <tr>\n",
       "      <th>3</th>\n",
       "      <td>4</td>\n",
       "      <td>NaN</td>\n",
       "      <td>1</td>\n",
       "      <td>Futrelle, Mrs. Jacques Heath (Lily May Peel)</td>\n",
       "      <td>female</td>\n",
       "    </tr>\n",
       "    <tr>\n",
       "      <th>6</th>\n",
       "      <td>7</td>\n",
       "      <td>NaN</td>\n",
       "      <td>1</td>\n",
       "      <td>McCarthy, Mr. Timothy J</td>\n",
       "      <td>male</td>\n",
       "    </tr>\n",
       "    <tr>\n",
       "      <th>10</th>\n",
       "      <td>11</td>\n",
       "      <td>NaN</td>\n",
       "      <td>3</td>\n",
       "      <td>Sandstrom, Miss. Marguerite Rut</td>\n",
       "      <td>female</td>\n",
       "    </tr>\n",
       "    <tr>\n",
       "      <th>11</th>\n",
       "      <td>12</td>\n",
       "      <td>NaN</td>\n",
       "      <td>1</td>\n",
       "      <td>Bonnell, Miss. Elizabeth</td>\n",
       "      <td>female</td>\n",
       "    </tr>\n",
       "    <tr>\n",
       "      <th>...</th>\n",
       "      <td>...</td>\n",
       "      <td>...</td>\n",
       "      <td>...</td>\n",
       "      <td>...</td>\n",
       "      <td>...</td>\n",
       "    </tr>\n",
       "    <tr>\n",
       "      <th>871</th>\n",
       "      <td>872</td>\n",
       "      <td>0.733333</td>\n",
       "      <td>1</td>\n",
       "      <td>Beckwith, Mrs. Richard Leonard (Sallie Monypeny)</td>\n",
       "      <td>female</td>\n",
       "    </tr>\n",
       "    <tr>\n",
       "      <th>872</th>\n",
       "      <td>873</td>\n",
       "      <td>0.700000</td>\n",
       "      <td>1</td>\n",
       "      <td>Carlsson, Mr. Frans Olof</td>\n",
       "      <td>male</td>\n",
       "    </tr>\n",
       "    <tr>\n",
       "      <th>879</th>\n",
       "      <td>880</td>\n",
       "      <td>0.700000</td>\n",
       "      <td>1</td>\n",
       "      <td>Potter, Mrs. Thomas Jr (Lily Alexenia Wilson)</td>\n",
       "      <td>female</td>\n",
       "    </tr>\n",
       "    <tr>\n",
       "      <th>887</th>\n",
       "      <td>888</td>\n",
       "      <td>0.700000</td>\n",
       "      <td>1</td>\n",
       "      <td>Graham, Miss. Margaret Edith</td>\n",
       "      <td>female</td>\n",
       "    </tr>\n",
       "    <tr>\n",
       "      <th>889</th>\n",
       "      <td>890</td>\n",
       "      <td>0.700000</td>\n",
       "      <td>1</td>\n",
       "      <td>Behr, Mr. Karl Howell</td>\n",
       "      <td>male</td>\n",
       "    </tr>\n",
       "  </tbody>\n",
       "</table>\n",
       "<p>183 rows × 5 columns</p>\n",
       "</div>"
      ],
      "text/plain": [
       "     PassengerId  Survived  Pclass  \\\n",
       "1              2       NaN       1   \n",
       "3              4       NaN       1   \n",
       "6              7       NaN       1   \n",
       "10            11       NaN       3   \n",
       "11            12       NaN       1   \n",
       "..           ...       ...     ...   \n",
       "871          872  0.733333       1   \n",
       "872          873  0.700000       1   \n",
       "879          880  0.700000       1   \n",
       "887          888  0.700000       1   \n",
       "889          890  0.700000       1   \n",
       "\n",
       "                                                  Name     Sex  \n",
       "1    Cumings, Mrs. John Bradley (Florence Briggs Th...  female  \n",
       "3         Futrelle, Mrs. Jacques Heath (Lily May Peel)  female  \n",
       "6                              McCarthy, Mr. Timothy J    male  \n",
       "10                     Sandstrom, Miss. Marguerite Rut  female  \n",
       "11                            Bonnell, Miss. Elizabeth  female  \n",
       "..                                                 ...     ...  \n",
       "871   Beckwith, Mrs. Richard Leonard (Sallie Monypeny)  female  \n",
       "872                           Carlsson, Mr. Frans Olof    male  \n",
       "879      Potter, Mrs. Thomas Jr (Lily Alexenia Wilson)  female  \n",
       "887                       Graham, Miss. Margaret Edith  female  \n",
       "889                              Behr, Mr. Karl Howell    male  \n",
       "\n",
       "[183 rows x 5 columns]"
      ]
     },
     "execution_count": 49,
     "metadata": {},
     "output_type": "execute_result"
    }
   ],
   "source": [
    "data = data.iloc[:, 0:5]\n",
    "data\n"
   ]
  },
  {
   "cell_type": "code",
   "execution_count": 50,
   "id": "87045764",
   "metadata": {},
   "outputs": [
    {
     "data": {
      "text/plain": [
       "array([[       nan],\n",
       "       [       nan],\n",
       "       [       nan],\n",
       "       [       nan],\n",
       "       [       nan],\n",
       "       [       nan],\n",
       "       [       nan],\n",
       "       [       nan],\n",
       "       [       nan],\n",
       "       [       nan],\n",
       "       [       nan],\n",
       "       [       nan],\n",
       "       [       nan],\n",
       "       [       nan],\n",
       "       [       nan],\n",
       "       [       nan],\n",
       "       [       nan],\n",
       "       [       nan],\n",
       "       [       nan],\n",
       "       [       nan],\n",
       "       [       nan],\n",
       "       [       nan],\n",
       "       [       nan],\n",
       "       [       nan],\n",
       "       [       nan],\n",
       "       [       nan],\n",
       "       [       nan],\n",
       "       [       nan],\n",
       "       [       nan],\n",
       "       [0.43333333],\n",
       "       [0.43333333],\n",
       "       [0.43333333],\n",
       "       [0.46666667],\n",
       "       [0.46666667],\n",
       "       [0.43333333],\n",
       "       [0.43333333],\n",
       "       [0.43333333],\n",
       "       [0.46666667],\n",
       "       [0.46666667],\n",
       "       [0.5       ],\n",
       "       [0.5       ],\n",
       "       [0.5       ],\n",
       "       [0.5       ],\n",
       "       [0.46666667],\n",
       "       [0.5       ],\n",
       "       [0.5       ],\n",
       "       [0.46666667],\n",
       "       [0.5       ],\n",
       "       [0.53333333],\n",
       "       [0.53333333],\n",
       "       [0.53333333],\n",
       "       [0.56666667],\n",
       "       [0.53333333],\n",
       "       [0.53333333],\n",
       "       [0.56666667],\n",
       "       [0.6       ],\n",
       "       [0.6       ],\n",
       "       [0.63333333],\n",
       "       [0.66666667],\n",
       "       [0.7       ],\n",
       "       [0.7       ],\n",
       "       [0.7       ],\n",
       "       [0.7       ],\n",
       "       [0.7       ],\n",
       "       [0.73333333],\n",
       "       [0.7       ],\n",
       "       [0.66666667],\n",
       "       [0.63333333],\n",
       "       [0.63333333],\n",
       "       [0.6       ],\n",
       "       [0.63333333],\n",
       "       [0.63333333],\n",
       "       [0.66666667],\n",
       "       [0.7       ],\n",
       "       [0.7       ],\n",
       "       [0.73333333],\n",
       "       [0.76666667],\n",
       "       [0.73333333],\n",
       "       [0.73333333],\n",
       "       [0.76666667],\n",
       "       [0.76666667],\n",
       "       [0.76666667],\n",
       "       [0.8       ],\n",
       "       [0.83333333],\n",
       "       [0.8       ],\n",
       "       [0.8       ],\n",
       "       [0.76666667],\n",
       "       [0.76666667],\n",
       "       [0.76666667],\n",
       "       [0.73333333],\n",
       "       [0.73333333],\n",
       "       [0.7       ],\n",
       "       [0.7       ],\n",
       "       [0.66666667],\n",
       "       [0.66666667],\n",
       "       [0.7       ],\n",
       "       [0.73333333],\n",
       "       [0.73333333],\n",
       "       [0.7       ],\n",
       "       [0.73333333],\n",
       "       [0.7       ],\n",
       "       [0.7       ],\n",
       "       [0.66666667],\n",
       "       [0.66666667],\n",
       "       [0.63333333],\n",
       "       [0.63333333],\n",
       "       [0.63333333],\n",
       "       [0.66666667],\n",
       "       [0.63333333],\n",
       "       [0.63333333],\n",
       "       [0.63333333],\n",
       "       [0.6       ],\n",
       "       [0.6       ],\n",
       "       [0.6       ],\n",
       "       [0.63333333],\n",
       "       [0.63333333],\n",
       "       [0.66666667],\n",
       "       [0.66666667],\n",
       "       [0.66666667],\n",
       "       [0.66666667],\n",
       "       [0.66666667],\n",
       "       [0.7       ],\n",
       "       [0.7       ],\n",
       "       [0.73333333],\n",
       "       [0.73333333],\n",
       "       [0.73333333],\n",
       "       [0.73333333],\n",
       "       [0.73333333],\n",
       "       [0.76666667],\n",
       "       [0.76666667],\n",
       "       [0.8       ],\n",
       "       [0.8       ],\n",
       "       [0.83333333],\n",
       "       [0.83333333],\n",
       "       [0.83333333],\n",
       "       [0.8       ],\n",
       "       [0.76666667],\n",
       "       [0.76666667],\n",
       "       [0.8       ],\n",
       "       [0.8       ],\n",
       "       [0.8       ],\n",
       "       [0.8       ],\n",
       "       [0.76666667],\n",
       "       [0.76666667],\n",
       "       [0.76666667],\n",
       "       [0.76666667],\n",
       "       [0.76666667],\n",
       "       [0.76666667],\n",
       "       [0.73333333],\n",
       "       [0.76666667],\n",
       "       [0.76666667],\n",
       "       [0.76666667],\n",
       "       [0.76666667],\n",
       "       [0.76666667],\n",
       "       [0.73333333],\n",
       "       [0.73333333],\n",
       "       [0.7       ],\n",
       "       [0.7       ],\n",
       "       [0.7       ],\n",
       "       [0.7       ],\n",
       "       [0.7       ],\n",
       "       [0.7       ],\n",
       "       [0.66666667],\n",
       "       [0.66666667],\n",
       "       [0.7       ],\n",
       "       [0.7       ],\n",
       "       [0.7       ],\n",
       "       [0.7       ],\n",
       "       [0.7       ],\n",
       "       [0.66666667],\n",
       "       [0.66666667],\n",
       "       [0.7       ],\n",
       "       [0.73333333],\n",
       "       [0.73333333],\n",
       "       [0.73333333],\n",
       "       [0.73333333],\n",
       "       [0.73333333],\n",
       "       [0.7       ],\n",
       "       [0.73333333],\n",
       "       [0.7       ],\n",
       "       [0.7       ],\n",
       "       [0.7       ],\n",
       "       [0.7       ]])"
      ]
     },
     "execution_count": 50,
     "metadata": {},
     "output_type": "execute_result"
    }
   ],
   "source": [
    "training_set = data.iloc[:, 1:2].values\n",
    "training_set\n"
   ]
  },
  {
   "cell_type": "code",
   "execution_count": 51,
   "id": "0d9d9e76",
   "metadata": {},
   "outputs": [],
   "source": [
    "from sklearn.preprocessing import MinMaxScaler\n",
    "scaler = MinMaxScaler(feature_range = (0, 1))\n",
    "data_training_scaled = scaler.fit_transform(training_set)\n"
   ]
  },
  {
   "cell_type": "code",
   "execution_count": 55,
   "id": "87cc02e8",
   "metadata": {},
   "outputs": [],
   "source": [
    "features_set = []\n",
    "labels = []\n",
    "for i in range(60, 586):\n",
    "  features_set.append(data_training_scaled[i - 60:i, 0])"
   ]
  },
  {
   "cell_type": "code",
   "execution_count": 56,
   "id": "5b3557d3",
   "metadata": {},
   "outputs": [
    {
     "name": "stderr",
     "output_type": "stream",
     "text": [
      "C:\\Users\\Admin\\AppData\\Local\\Temp\\ipykernel_6256\\4245798851.py:1: VisibleDeprecationWarning: Creating an ndarray from ragged nested sequences (which is a list-or-tuple of lists-or-tuples-or ndarrays with different lengths or shapes) is deprecated. If you meant to do this, you must specify 'dtype=object' when creating the ndarray.\n",
      "  features_set, labels = np.array(features_set), np.array(labels)\n"
     ]
    }
   ],
   "source": [
    "features_set, labels = np.array(features_set), np.array(labels)"
   ]
  },
  {
   "cell_type": "code",
   "execution_count": 58,
   "id": "f1b52352",
   "metadata": {},
   "outputs": [
    {
     "data": {
      "text/plain": [
       "(526, 1)"
      ]
     },
     "execution_count": 58,
     "metadata": {},
     "output_type": "execute_result"
    }
   ],
   "source": [
    "features_set = np.reshape(features_set, (features_set.shape[0], 1))\n",
    "features_set.shape"
   ]
  },
  {
   "cell_type": "code",
   "execution_count": 59,
   "id": "e5672511",
   "metadata": {},
   "outputs": [
    {
     "name": "stdout",
     "output_type": "stream",
     "text": [
      "Requirement already satisfied: tensorflow in c:\\users\\admin\\anaconda3\\lib\\site-packages (2.12.0)\n",
      "Requirement already satisfied: tensorflow-intel==2.12.0 in c:\\users\\admin\\anaconda3\\lib\\site-packages (from tensorflow) (2.12.0)\n",
      "Requirement already satisfied: termcolor>=1.1.0 in c:\\users\\admin\\anaconda3\\lib\\site-packages (from tensorflow-intel==2.12.0->tensorflow) (2.2.0)\n",
      "Requirement already satisfied: jax>=0.3.15 in c:\\users\\admin\\anaconda3\\lib\\site-packages (from tensorflow-intel==2.12.0->tensorflow) (0.4.8)\n",
      "Requirement already satisfied: google-pasta>=0.1.1 in c:\\users\\admin\\anaconda3\\lib\\site-packages (from tensorflow-intel==2.12.0->tensorflow) (0.2.0)\n",
      "Requirement already satisfied: tensorflow-io-gcs-filesystem>=0.23.1 in c:\\users\\admin\\anaconda3\\lib\\site-packages (from tensorflow-intel==2.12.0->tensorflow) (0.31.0)\n",
      "Requirement already satisfied: wrapt<1.15,>=1.11.0 in c:\\users\\admin\\anaconda3\\lib\\site-packages (from tensorflow-intel==2.12.0->tensorflow) (1.12.1)\n",
      "Requirement already satisfied: setuptools in c:\\users\\admin\\anaconda3\\lib\\site-packages (from tensorflow-intel==2.12.0->tensorflow) (61.2.0)\n",
      "Requirement already satisfied: libclang>=13.0.0 in c:\\users\\admin\\anaconda3\\lib\\site-packages (from tensorflow-intel==2.12.0->tensorflow) (16.0.0)\n",
      "Requirement already satisfied: astunparse>=1.6.0 in c:\\users\\admin\\anaconda3\\lib\\site-packages (from tensorflow-intel==2.12.0->tensorflow) (1.6.3)\n",
      "Requirement already satisfied: typing-extensions>=3.6.6 in c:\\users\\admin\\anaconda3\\lib\\site-packages (from tensorflow-intel==2.12.0->tensorflow) (4.1.1)\n",
      "Requirement already satisfied: six>=1.12.0 in c:\\users\\admin\\anaconda3\\lib\\site-packages (from tensorflow-intel==2.12.0->tensorflow) (1.16.0)\n",
      "Requirement already satisfied: packaging in c:\\users\\admin\\anaconda3\\lib\\site-packages (from tensorflow-intel==2.12.0->tensorflow) (21.3)\n",
      "Requirement already satisfied: keras<2.13,>=2.12.0 in c:\\users\\admin\\anaconda3\\lib\\site-packages (from tensorflow-intel==2.12.0->tensorflow) (2.12.0)\n",
      "Requirement already satisfied: grpcio<2.0,>=1.24.3 in c:\\users\\admin\\anaconda3\\lib\\site-packages (from tensorflow-intel==2.12.0->tensorflow) (1.54.0)\n",
      "Requirement already satisfied: tensorflow-estimator<2.13,>=2.12.0 in c:\\users\\admin\\anaconda3\\lib\\site-packages (from tensorflow-intel==2.12.0->tensorflow) (2.12.0)\n",
      "Requirement already satisfied: h5py>=2.9.0 in c:\\users\\admin\\anaconda3\\lib\\site-packages (from tensorflow-intel==2.12.0->tensorflow) (3.6.0)\n",
      "Requirement already satisfied: opt-einsum>=2.3.2 in c:\\users\\admin\\anaconda3\\lib\\site-packages (from tensorflow-intel==2.12.0->tensorflow) (3.3.0)\n",
      "Requirement already satisfied: flatbuffers>=2.0 in c:\\users\\admin\\anaconda3\\lib\\site-packages (from tensorflow-intel==2.12.0->tensorflow) (23.3.3)\n",
      "Requirement already satisfied: protobuf!=4.21.0,!=4.21.1,!=4.21.2,!=4.21.3,!=4.21.4,!=4.21.5,<5.0.0dev,>=3.20.3 in c:\\users\\admin\\anaconda3\\lib\\site-packages (from tensorflow-intel==2.12.0->tensorflow) (4.22.3)\n",
      "Requirement already satisfied: gast<=0.4.0,>=0.2.1 in c:\\users\\admin\\anaconda3\\lib\\site-packages (from tensorflow-intel==2.12.0->tensorflow) (0.4.0)\n",
      "Requirement already satisfied: tensorboard<2.13,>=2.12 in c:\\users\\admin\\anaconda3\\lib\\site-packages (from tensorflow-intel==2.12.0->tensorflow) (2.12.2)\n",
      "Requirement already satisfied: absl-py>=1.0.0 in c:\\users\\admin\\anaconda3\\lib\\site-packages (from tensorflow-intel==2.12.0->tensorflow) (1.4.0)\n",
      "Requirement already satisfied: numpy<1.24,>=1.22 in c:\\users\\admin\\anaconda3\\lib\\site-packages (from tensorflow-intel==2.12.0->tensorflow) (1.22.4)\n",
      "Requirement already satisfied: wheel<1.0,>=0.23.0 in c:\\users\\admin\\anaconda3\\lib\\site-packages (from astunparse>=1.6.0->tensorflow-intel==2.12.0->tensorflow) (0.37.1)\n",
      "Requirement already satisfied: ml-dtypes>=0.0.3 in c:\\users\\admin\\anaconda3\\lib\\site-packages (from jax>=0.3.15->tensorflow-intel==2.12.0->tensorflow) (0.1.0)\n",
      "Requirement already satisfied: scipy>=1.7 in c:\\users\\admin\\anaconda3\\lib\\site-packages (from jax>=0.3.15->tensorflow-intel==2.12.0->tensorflow) (1.7.3)\n",
      "Requirement already satisfied: tensorboard-plugin-wit>=1.6.0 in c:\\users\\admin\\anaconda3\\lib\\site-packages (from tensorboard<2.13,>=2.12->tensorflow-intel==2.12.0->tensorflow) (1.8.1)\n",
      "Requirement already satisfied: google-auth<3,>=1.6.3 in c:\\users\\admin\\anaconda3\\lib\\site-packages (from tensorboard<2.13,>=2.12->tensorflow-intel==2.12.0->tensorflow) (2.17.3)\n",
      "Requirement already satisfied: werkzeug>=1.0.1 in c:\\users\\admin\\anaconda3\\lib\\site-packages (from tensorboard<2.13,>=2.12->tensorflow-intel==2.12.0->tensorflow) (2.0.3)\n",
      "Requirement already satisfied: requests<3,>=2.21.0 in c:\\users\\admin\\anaconda3\\lib\\site-packages (from tensorboard<2.13,>=2.12->tensorflow-intel==2.12.0->tensorflow) (2.27.1)\n",
      "Requirement already satisfied: tensorboard-data-server<0.8.0,>=0.7.0 in c:\\users\\admin\\anaconda3\\lib\\site-packages (from tensorboard<2.13,>=2.12->tensorflow-intel==2.12.0->tensorflow) (0.7.0)\n",
      "Requirement already satisfied: markdown>=2.6.8 in c:\\users\\admin\\anaconda3\\lib\\site-packages (from tensorboard<2.13,>=2.12->tensorflow-intel==2.12.0->tensorflow) (3.3.4)\n",
      "Requirement already satisfied: google-auth-oauthlib<1.1,>=0.5 in c:\\users\\admin\\anaconda3\\lib\\site-packages (from tensorboard<2.13,>=2.12->tensorflow-intel==2.12.0->tensorflow) (1.0.0)\n",
      "Requirement already satisfied: cachetools<6.0,>=2.0.0 in c:\\users\\admin\\anaconda3\\lib\\site-packages (from google-auth<3,>=1.6.3->tensorboard<2.13,>=2.12->tensorflow-intel==2.12.0->tensorflow) (4.2.2)\n",
      "Requirement already satisfied: rsa<5,>=3.1.4 in c:\\users\\admin\\anaconda3\\lib\\site-packages (from google-auth<3,>=1.6.3->tensorboard<2.13,>=2.12->tensorflow-intel==2.12.0->tensorflow) (4.7.2)\n",
      "Requirement already satisfied: pyasn1-modules>=0.2.1 in c:\\users\\admin\\anaconda3\\lib\\site-packages (from google-auth<3,>=1.6.3->tensorboard<2.13,>=2.12->tensorflow-intel==2.12.0->tensorflow) (0.2.8)\n",
      "Requirement already satisfied: requests-oauthlib>=0.7.0 in c:\\users\\admin\\anaconda3\\lib\\site-packages (from google-auth-oauthlib<1.1,>=0.5->tensorboard<2.13,>=2.12->tensorflow-intel==2.12.0->tensorflow) (1.3.1)\n",
      "Requirement already satisfied: pyasn1<0.5.0,>=0.4.6 in c:\\users\\admin\\anaconda3\\lib\\site-packages (from pyasn1-modules>=0.2.1->google-auth<3,>=1.6.3->tensorboard<2.13,>=2.12->tensorflow-intel==2.12.0->tensorflow) (0.4.8)\n",
      "Requirement already satisfied: charset-normalizer~=2.0.0 in c:\\users\\admin\\anaconda3\\lib\\site-packages (from requests<3,>=2.21.0->tensorboard<2.13,>=2.12->tensorflow-intel==2.12.0->tensorflow) (2.0.4)\n",
      "Requirement already satisfied: certifi>=2017.4.17 in c:\\users\\admin\\anaconda3\\lib\\site-packages (from requests<3,>=2.21.0->tensorboard<2.13,>=2.12->tensorflow-intel==2.12.0->tensorflow) (2022.6.15)\n",
      "Requirement already satisfied: idna<4,>=2.5 in c:\\users\\admin\\anaconda3\\lib\\site-packages (from requests<3,>=2.21.0->tensorboard<2.13,>=2.12->tensorflow-intel==2.12.0->tensorflow) (3.3)\n",
      "Requirement already satisfied: urllib3<1.27,>=1.21.1 in c:\\users\\admin\\anaconda3\\lib\\site-packages (from requests<3,>=2.21.0->tensorboard<2.13,>=2.12->tensorflow-intel==2.12.0->tensorflow) (1.26.9)\n",
      "Requirement already satisfied: oauthlib>=3.0.0 in c:\\users\\admin\\anaconda3\\lib\\site-packages (from requests-oauthlib>=0.7.0->google-auth-oauthlib<1.1,>=0.5->tensorboard<2.13,>=2.12->tensorflow-intel==2.12.0->tensorflow) (3.2.2)\n",
      "Requirement already satisfied: pyparsing!=3.0.5,>=2.0.2 in c:\\users\\admin\\anaconda3\\lib\\site-packages (from packaging->tensorflow-intel==2.12.0->tensorflow) (3.0.4)\n"
     ]
    }
   ],
   "source": [
    "!pip install tensorflow"
   ]
  },
  {
   "cell_type": "code",
   "execution_count": 60,
   "id": "48001354",
   "metadata": {},
   "outputs": [],
   "source": [
    "import tensorflow as tf\n",
    "from tensorflow.python.keras.models import Sequential\n",
    "from tensorflow.python.keras.layers import Dense\n",
    "from tensorflow.python.keras.layers import LSTM\n"
   ]
  },
  {
   "cell_type": "code",
   "execution_count": 61,
   "id": "5874a858",
   "metadata": {},
   "outputs": [],
   "source": [
    "model = Sequential()"
   ]
  },
  {
   "cell_type": "code",
   "execution_count": 62,
   "id": "f4f09347",
   "metadata": {},
   "outputs": [],
   "source": [
    "model.compile(optimizer='adam', loss='mean_squared_error')\n"
   ]
  },
  {
   "cell_type": "code",
   "execution_count": 67,
   "id": "930ff863",
   "metadata": {},
   "outputs": [],
   "source": [
    "data_total = pd.concat((data['Survived'], data['Survived']), axis=0)"
   ]
  },
  {
   "cell_type": "code",
   "execution_count": 68,
   "id": "af0e7fe0",
   "metadata": {},
   "outputs": [
    {
     "data": {
      "text/plain": [
       "(243,)"
      ]
     },
     "execution_count": 68,
     "metadata": {},
     "output_type": "execute_result"
    }
   ],
   "source": [
    "test_inputs = data_total[len(data_total) - len(data) - 60:].values\n",
    "test_inputs.shape\n"
   ]
  },
  {
   "cell_type": "code",
   "execution_count": 69,
   "id": "d5c660c7",
   "metadata": {},
   "outputs": [],
   "source": [
    "test_inputs = test_inputs.reshape(-1, 1)\n",
    "test_inputs = scaler.transform(test_inputs)"
   ]
  },
  {
   "cell_type": "code",
   "execution_count": 70,
   "id": "944bf989",
   "metadata": {},
   "outputs": [],
   "source": [
    "test_feature = []\n",
    "for i in range(60, 89):\n",
    "  test_feature.append(test_inputs[i-60:i, 0])\n"
   ]
  },
  {
   "cell_type": "code",
   "execution_count": 71,
   "id": "5d66196f",
   "metadata": {},
   "outputs": [
    {
     "data": {
      "text/plain": [
       "(1740, 1)"
      ]
     },
     "execution_count": 71,
     "metadata": {},
     "output_type": "execute_result"
    }
   ],
   "source": [
    "test_feature = np.array(test_feature)\n",
    "test_feature = np.reshape(test_feature, (test_feature.shape[0] - test_feature.shape[1], 1))\n",
    "test_feature.shape\n"
   ]
  },
  {
   "cell_type": "code",
   "execution_count": 72,
   "id": "d4d58f52",
   "metadata": {},
   "outputs": [],
   "source": [
    "classification = model.predict(test_feature)"
   ]
  },
  {
   "cell_type": "code",
   "execution_count": 73,
   "id": "a6adb5ce",
   "metadata": {},
   "outputs": [
    {
     "data": {
      "text/plain": [
       "array([[0.75],\n",
       "       [0.75],\n",
       "       [0.75],\n",
       "       ...,\n",
       "       [ nan],\n",
       "       [ nan],\n",
       "       [ nan]], dtype=float32)"
      ]
     },
     "execution_count": 73,
     "metadata": {},
     "output_type": "execute_result"
    }
   ],
   "source": [
    "classification"
   ]
  },
  {
   "cell_type": "code",
   "execution_count": 74,
   "id": "5b055a3f",
   "metadata": {},
   "outputs": [
    {
     "name": "stdout",
     "output_type": "stream",
     "text": [
      "(183, 5)\n",
      "(182, 5)\n"
     ]
    }
   ],
   "source": [
    "x_train = data[0:1256]\n",
    "y_train = data[1:1257]\n",
    "print(x_train.shape)\n",
    "print(y_train.shape)"
   ]
  },
  {
   "cell_type": "code",
   "execution_count": 75,
   "id": "49276c0f",
   "metadata": {},
   "outputs": [
    {
     "data": {
      "text/html": [
       "<div>\n",
       "<style scoped>\n",
       "    .dataframe tbody tr th:only-of-type {\n",
       "        vertical-align: middle;\n",
       "    }\n",
       "\n",
       "    .dataframe tbody tr th {\n",
       "        vertical-align: top;\n",
       "    }\n",
       "\n",
       "    .dataframe thead th {\n",
       "        text-align: right;\n",
       "    }\n",
       "</style>\n",
       "<table border=\"1\" class=\"dataframe\">\n",
       "  <thead>\n",
       "    <tr style=\"text-align: right;\">\n",
       "      <th></th>\n",
       "      <th>PassengerId</th>\n",
       "      <th>Survived</th>\n",
       "      <th>Pclass</th>\n",
       "      <th>Name</th>\n",
       "      <th>Sex</th>\n",
       "    </tr>\n",
       "  </thead>\n",
       "  <tbody>\n",
       "    <tr>\n",
       "      <th>1</th>\n",
       "      <td>2</td>\n",
       "      <td>NaN</td>\n",
       "      <td>1</td>\n",
       "      <td>Cumings, Mrs. John Bradley (Florence Briggs Th...</td>\n",
       "      <td>female</td>\n",
       "    </tr>\n",
       "    <tr>\n",
       "      <th>3</th>\n",
       "      <td>4</td>\n",
       "      <td>NaN</td>\n",
       "      <td>1</td>\n",
       "      <td>Futrelle, Mrs. Jacques Heath (Lily May Peel)</td>\n",
       "      <td>female</td>\n",
       "    </tr>\n",
       "    <tr>\n",
       "      <th>6</th>\n",
       "      <td>7</td>\n",
       "      <td>NaN</td>\n",
       "      <td>1</td>\n",
       "      <td>McCarthy, Mr. Timothy J</td>\n",
       "      <td>male</td>\n",
       "    </tr>\n",
       "    <tr>\n",
       "      <th>10</th>\n",
       "      <td>11</td>\n",
       "      <td>NaN</td>\n",
       "      <td>3</td>\n",
       "      <td>Sandstrom, Miss. Marguerite Rut</td>\n",
       "      <td>female</td>\n",
       "    </tr>\n",
       "    <tr>\n",
       "      <th>11</th>\n",
       "      <td>12</td>\n",
       "      <td>NaN</td>\n",
       "      <td>1</td>\n",
       "      <td>Bonnell, Miss. Elizabeth</td>\n",
       "      <td>female</td>\n",
       "    </tr>\n",
       "    <tr>\n",
       "      <th>...</th>\n",
       "      <td>...</td>\n",
       "      <td>...</td>\n",
       "      <td>...</td>\n",
       "      <td>...</td>\n",
       "      <td>...</td>\n",
       "    </tr>\n",
       "    <tr>\n",
       "      <th>871</th>\n",
       "      <td>872</td>\n",
       "      <td>0.733333</td>\n",
       "      <td>1</td>\n",
       "      <td>Beckwith, Mrs. Richard Leonard (Sallie Monypeny)</td>\n",
       "      <td>female</td>\n",
       "    </tr>\n",
       "    <tr>\n",
       "      <th>872</th>\n",
       "      <td>873</td>\n",
       "      <td>0.700000</td>\n",
       "      <td>1</td>\n",
       "      <td>Carlsson, Mr. Frans Olof</td>\n",
       "      <td>male</td>\n",
       "    </tr>\n",
       "    <tr>\n",
       "      <th>879</th>\n",
       "      <td>880</td>\n",
       "      <td>0.700000</td>\n",
       "      <td>1</td>\n",
       "      <td>Potter, Mrs. Thomas Jr (Lily Alexenia Wilson)</td>\n",
       "      <td>female</td>\n",
       "    </tr>\n",
       "    <tr>\n",
       "      <th>887</th>\n",
       "      <td>888</td>\n",
       "      <td>0.700000</td>\n",
       "      <td>1</td>\n",
       "      <td>Graham, Miss. Margaret Edith</td>\n",
       "      <td>female</td>\n",
       "    </tr>\n",
       "    <tr>\n",
       "      <th>889</th>\n",
       "      <td>890</td>\n",
       "      <td>0.700000</td>\n",
       "      <td>1</td>\n",
       "      <td>Behr, Mr. Karl Howell</td>\n",
       "      <td>male</td>\n",
       "    </tr>\n",
       "  </tbody>\n",
       "</table>\n",
       "<p>183 rows × 5 columns</p>\n",
       "</div>"
      ],
      "text/plain": [
       "     PassengerId  Survived  Pclass  \\\n",
       "1              2       NaN       1   \n",
       "3              4       NaN       1   \n",
       "6              7       NaN       1   \n",
       "10            11       NaN       3   \n",
       "11            12       NaN       1   \n",
       "..           ...       ...     ...   \n",
       "871          872  0.733333       1   \n",
       "872          873  0.700000       1   \n",
       "879          880  0.700000       1   \n",
       "887          888  0.700000       1   \n",
       "889          890  0.700000       1   \n",
       "\n",
       "                                                  Name     Sex  \n",
       "1    Cumings, Mrs. John Bradley (Florence Briggs Th...  female  \n",
       "3         Futrelle, Mrs. Jacques Heath (Lily May Peel)  female  \n",
       "6                              McCarthy, Mr. Timothy J    male  \n",
       "10                     Sandstrom, Miss. Marguerite Rut  female  \n",
       "11                            Bonnell, Miss. Elizabeth  female  \n",
       "..                                                 ...     ...  \n",
       "871   Beckwith, Mrs. Richard Leonard (Sallie Monypeny)  female  \n",
       "872                           Carlsson, Mr. Frans Olof    male  \n",
       "879      Potter, Mrs. Thomas Jr (Lily Alexenia Wilson)  female  \n",
       "887                       Graham, Miss. Margaret Edith  female  \n",
       "889                              Behr, Mr. Karl Howell    male  \n",
       "\n",
       "[183 rows x 5 columns]"
      ]
     },
     "execution_count": 75,
     "metadata": {},
     "output_type": "execute_result"
    }
   ],
   "source": [
    "x_train"
   ]
  },
  {
   "cell_type": "code",
   "execution_count": 76,
   "id": "7db19002",
   "metadata": {},
   "outputs": [
    {
     "data": {
      "text/plain": [
       "2.9765919947103443"
      ]
     },
     "execution_count": 76,
     "metadata": {},
     "output_type": "execute_result"
    }
   ],
   "source": [
    "np.random.normal(1)"
   ]
  },
  {
   "cell_type": "code",
   "execution_count": 77,
   "id": "dc0e17c3",
   "metadata": {},
   "outputs": [
    {
     "data": {
      "text/plain": [
       "4.60059780821406"
      ]
     },
     "execution_count": 77,
     "metadata": {},
     "output_type": "execute_result"
    }
   ],
   "source": [
    "np.random.normal(5)"
   ]
  },
  {
   "cell_type": "code",
   "execution_count": 78,
   "id": "3bbbeb70",
   "metadata": {},
   "outputs": [],
   "source": [
    "np.random.seed(42)"
   ]
  },
  {
   "cell_type": "code",
   "execution_count": 79,
   "id": "6440b479",
   "metadata": {},
   "outputs": [
    {
     "data": {
      "text/plain": [
       "97.87262077473541"
      ]
     },
     "execution_count": 79,
     "metadata": {},
     "output_type": "execute_result"
    }
   ],
   "source": [
    "np.random.normal(size=1000, scale=100).std()"
   ]
  },
  {
   "cell_type": "code",
   "execution_count": null,
   "id": "84c4560f",
   "metadata": {},
   "outputs": [],
   "source": []
  }
 ],
 "metadata": {
  "kernelspec": {
   "display_name": "Python 3 (ipykernel)",
   "language": "python",
   "name": "python3"
  },
  "language_info": {
   "codemirror_mode": {
    "name": "ipython",
    "version": 3
   },
   "file_extension": ".py",
   "mimetype": "text/x-python",
   "name": "python",
   "nbconvert_exporter": "python",
   "pygments_lexer": "ipython3",
   "version": "3.9.12"
  }
 },
 "nbformat": 4,
 "nbformat_minor": 5
}
